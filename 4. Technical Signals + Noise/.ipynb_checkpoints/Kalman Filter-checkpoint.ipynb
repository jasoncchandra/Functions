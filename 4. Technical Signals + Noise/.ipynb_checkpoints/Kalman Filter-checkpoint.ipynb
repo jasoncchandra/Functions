{
 "cells": [
  {
   "cell_type": "markdown",
   "id": "d50641ea-9da8-452e-9110-9af997b5dbaa",
   "metadata": {},
   "source": [
    "# The Kalman Filter \n",
    "is a mathematical algorithm that uses a series of measurements observed over time to estimate the true state of a system. It is widely used in various fields, including engineering, economics, and signal processing, for applications such as control systems, navigation, and time-series analysis. The Kalman Filter combines the measurements' uncertainty (noise) with the system's dynamics to produce a more accurate and optimal estimate of the true state, even in the presence of noise.\n",
    "\n",
    "The Kalman Filter operates in two main steps: prediction and update.\n",
    "\n",
    "Prediction:\n",
    "In this step, the filter uses the previous estimate and the system's dynamics model to predict the current state's value. This prediction includes accounting for the inherent uncertainty in the prediction due to measurement noise and the dynamics of the system.\n",
    "\n",
    "Update:\n",
    "In this step, the filter incorporates the most recent measurement to update the predicted state estimate. The update process considers both the prediction's uncertainty and the measurement's uncertainty to produce a more refined and accurate state estimate.\n",
    "\n",
    "The Kalman Filter is particularly effective when dealing with noisy measurements and systems with unknown or changing dynamics. It's also capable of handling missing or irregularly spaced measurements. The filter is recursive, meaning it can process new measurements in real-time without needing to reprocess the entire historical data."
   ]
  },
  {
   "cell_type": "code",
   "execution_count": 9,
   "id": "77650549-e86d-468c-be62-20bd82dfc733",
   "metadata": {
    "tags": []
   },
   "outputs": [
    {
     "name": "stdout",
     "output_type": "stream",
     "text": [
      "Collecting filterpy\n",
      "  Downloading filterpy-1.4.5.zip (177 kB)\n",
      "\u001b[2K     \u001b[90m━━━━━━━━━━━━━━━━━━━━━━━━━━━━━━━━━━━━━━━\u001b[0m \u001b[32m178.0/178.0 kB\u001b[0m \u001b[31m4.6 MB/s\u001b[0m eta \u001b[36m0:00:00\u001b[0m\n",
      "\u001b[?25h  Preparing metadata (setup.py) ... \u001b[?25ldone\n",
      "\u001b[?25hRequirement already satisfied: numpy in /Users/chandrajason/anaconda3/lib/python3.11/site-packages (from filterpy) (1.24.3)\n",
      "Requirement already satisfied: scipy in /Users/chandrajason/anaconda3/lib/python3.11/site-packages (from filterpy) (1.10.1)\n",
      "Requirement already satisfied: matplotlib in /Users/chandrajason/anaconda3/lib/python3.11/site-packages (from filterpy) (3.7.1)\n",
      "Requirement already satisfied: contourpy>=1.0.1 in /Users/chandrajason/anaconda3/lib/python3.11/site-packages (from matplotlib->filterpy) (1.0.5)\n",
      "Requirement already satisfied: cycler>=0.10 in /Users/chandrajason/anaconda3/lib/python3.11/site-packages (from matplotlib->filterpy) (0.11.0)\n",
      "Requirement already satisfied: fonttools>=4.22.0 in /Users/chandrajason/anaconda3/lib/python3.11/site-packages (from matplotlib->filterpy) (4.25.0)\n",
      "Requirement already satisfied: kiwisolver>=1.0.1 in /Users/chandrajason/anaconda3/lib/python3.11/site-packages (from matplotlib->filterpy) (1.4.4)\n",
      "Requirement already satisfied: packaging>=20.0 in /Users/chandrajason/anaconda3/lib/python3.11/site-packages (from matplotlib->filterpy) (23.0)\n",
      "Requirement already satisfied: pillow>=6.2.0 in /Users/chandrajason/anaconda3/lib/python3.11/site-packages (from matplotlib->filterpy) (9.4.0)\n",
      "Requirement already satisfied: pyparsing>=2.3.1 in /Users/chandrajason/anaconda3/lib/python3.11/site-packages (from matplotlib->filterpy) (3.0.9)\n",
      "Requirement already satisfied: python-dateutil>=2.7 in /Users/chandrajason/anaconda3/lib/python3.11/site-packages (from matplotlib->filterpy) (2.8.2)\n",
      "Requirement already satisfied: six>=1.5 in /Users/chandrajason/anaconda3/lib/python3.11/site-packages (from python-dateutil>=2.7->matplotlib->filterpy) (1.16.0)\n",
      "Building wheels for collected packages: filterpy\n",
      "  Building wheel for filterpy (setup.py) ... \u001b[?25ldone\n",
      "\u001b[?25h  Created wheel for filterpy: filename=filterpy-1.4.5-py3-none-any.whl size=110458 sha256=4d06a8552dc0025a6f13b76e41b8a33744052c73205a9a88dfc0c2c8d66788dc\n",
      "  Stored in directory: /Users/chandrajason/Library/Caches/pip/wheels/12/dc/3c/e12983eac132d00f82a20c6cbe7b42ce6e96190ef8fa2d15e1\n",
      "Successfully built filterpy\n",
      "Installing collected packages: filterpy\n",
      "Successfully installed filterpy-1.4.5\n",
      "Note: you may need to restart the kernel to use updated packages.\n"
     ]
    }
   ],
   "source": [
    "pip install filterpy"
   ]
  },
  {
   "cell_type": "code",
   "execution_count": 4,
   "id": "4512b1ea-1aa2-4f85-9536-b5ed2acd5def",
   "metadata": {
    "tags": []
   },
   "outputs": [
    {
     "name": "stdout",
     "output_type": "stream",
     "text": [
      "[*********************100%%**********************]  1 of 1 completed\n"
     ]
    },
    {
     "ename": "ValueError",
     "evalue": "object has no __init__ method",
     "output_type": "error",
     "traceback": [
      "\u001b[0;31m---------------------------------------------------------------------------\u001b[0m",
      "\u001b[0;31mAttributeError\u001b[0m                            Traceback (most recent call last)",
      "File \u001b[0;32m~/anaconda3/lib/python3.11/site-packages/pykalman/utils.py:111\u001b[0m, in \u001b[0;36mget_params\u001b[0;34m(obj)\u001b[0m\n\u001b[1;32m    109\u001b[0m \u001b[38;5;28;01mtry\u001b[39;00m:\n\u001b[1;32m    110\u001b[0m     \u001b[38;5;66;03m# get names of every variable in the argument\u001b[39;00m\n\u001b[0;32m--> 111\u001b[0m     args \u001b[38;5;241m=\u001b[39m inspect\u001b[38;5;241m.\u001b[39mgetargspec(obj\u001b[38;5;241m.\u001b[39m\u001b[38;5;21m__init__\u001b[39m)[\u001b[38;5;241m0\u001b[39m]\n\u001b[1;32m    112\u001b[0m     args\u001b[38;5;241m.\u001b[39mpop(\u001b[38;5;241m0\u001b[39m)   \u001b[38;5;66;03m# remove \"self\"\u001b[39;00m\n",
      "\u001b[0;31mAttributeError\u001b[0m: module 'inspect' has no attribute 'getargspec'",
      "\nDuring handling of the above exception, another exception occurred:\n",
      "\u001b[0;31mValueError\u001b[0m                                Traceback (most recent call last)",
      "Cell \u001b[0;32mIn[4], line 24\u001b[0m\n\u001b[1;32m     21\u001b[0m kf \u001b[38;5;241m=\u001b[39m KalmanFilter(initial_state_mean\u001b[38;5;241m=\u001b[39m\u001b[38;5;241m0\u001b[39m, observation_covariance\u001b[38;5;241m=\u001b[39m\u001b[38;5;241m25\u001b[39m, transition_covariance\u001b[38;5;241m=\u001b[39m\u001b[38;5;241m1\u001b[39m)\n\u001b[1;32m     23\u001b[0m \u001b[38;5;66;03m# Apply the filter to noisy measurements\u001b[39;00m\n\u001b[0;32m---> 24\u001b[0m (filtered_state_means, _) \u001b[38;5;241m=\u001b[39m kf\u001b[38;5;241m.\u001b[39mfilter(noisy_measurements)\n\u001b[1;32m     26\u001b[0m \u001b[38;5;66;03m# Create a DataFrame with the original data, noisy measurements, and filtered results\u001b[39;00m\n\u001b[1;32m     27\u001b[0m data \u001b[38;5;241m=\u001b[39m pd\u001b[38;5;241m.\u001b[39mDataFrame({\u001b[38;5;124m'\u001b[39m\u001b[38;5;124mTrue Values\u001b[39m\u001b[38;5;124m'\u001b[39m: true_values, \u001b[38;5;124m'\u001b[39m\u001b[38;5;124mNoisy Measurements\u001b[39m\u001b[38;5;124m'\u001b[39m: noisy_measurements, \u001b[38;5;124m'\u001b[39m\u001b[38;5;124mFiltered Results\u001b[39m\u001b[38;5;124m'\u001b[39m: filtered_state_means[:, \u001b[38;5;241m0\u001b[39m]})\n",
      "File \u001b[0;32m~/anaconda3/lib/python3.11/site-packages/pykalman/standard.py:1165\u001b[0m, in \u001b[0;36mKalmanFilter.filter\u001b[0;34m(self, X)\u001b[0m\n\u001b[1;32m   1133\u001b[0m \u001b[38;5;250m\u001b[39m\u001b[38;5;124;03m\"\"\"Apply the Kalman Filter\u001b[39;00m\n\u001b[1;32m   1134\u001b[0m \n\u001b[1;32m   1135\u001b[0m \u001b[38;5;124;03mApply the Kalman Filter to estimate the hidden state at time :math:`t`\u001b[39;00m\n\u001b[0;32m   (...)\u001b[0m\n\u001b[1;32m   1158\u001b[0m \u001b[38;5;124;03m    current time step\u001b[39;00m\n\u001b[1;32m   1159\u001b[0m \u001b[38;5;124;03m\"\"\"\u001b[39;00m\n\u001b[1;32m   1160\u001b[0m Z \u001b[38;5;241m=\u001b[39m \u001b[38;5;28mself\u001b[39m\u001b[38;5;241m.\u001b[39m_parse_observations(X)\n\u001b[1;32m   1162\u001b[0m (transition_matrices, transition_offsets, transition_covariance,\n\u001b[1;32m   1163\u001b[0m  observation_matrices, observation_offsets, observation_covariance,\n\u001b[1;32m   1164\u001b[0m  initial_state_mean, initial_state_covariance) \u001b[38;5;241m=\u001b[39m (\n\u001b[0;32m-> 1165\u001b[0m     \u001b[38;5;28mself\u001b[39m\u001b[38;5;241m.\u001b[39m_initialize_parameters()\n\u001b[1;32m   1166\u001b[0m )\n\u001b[1;32m   1168\u001b[0m (_, _, _, filtered_state_means,\n\u001b[1;32m   1169\u001b[0m  filtered_state_covariances) \u001b[38;5;241m=\u001b[39m (\n\u001b[1;32m   1170\u001b[0m     _filter(\n\u001b[0;32m   (...)\u001b[0m\n\u001b[1;32m   1176\u001b[0m     )\n\u001b[1;32m   1177\u001b[0m )\n\u001b[1;32m   1178\u001b[0m \u001b[38;5;28;01mreturn\u001b[39;00m (filtered_state_means, filtered_state_covariances)\n",
      "File \u001b[0;32m~/anaconda3/lib/python3.11/site-packages/pykalman/standard.py:1483\u001b[0m, in \u001b[0;36mKalmanFilter._initialize_parameters\u001b[0;34m(self)\u001b[0m\n\u001b[1;32m   1480\u001b[0m \u001b[38;5;250m\u001b[39m\u001b[38;5;124;03m\"\"\"Retrieve parameters if they exist, else replace with defaults\"\"\"\u001b[39;00m\n\u001b[1;32m   1481\u001b[0m n_dim_state, n_dim_obs \u001b[38;5;241m=\u001b[39m \u001b[38;5;28mself\u001b[39m\u001b[38;5;241m.\u001b[39mn_dim_state, \u001b[38;5;28mself\u001b[39m\u001b[38;5;241m.\u001b[39mn_dim_obs\n\u001b[0;32m-> 1483\u001b[0m arguments \u001b[38;5;241m=\u001b[39m get_params(\u001b[38;5;28mself\u001b[39m)\n\u001b[1;32m   1484\u001b[0m defaults \u001b[38;5;241m=\u001b[39m {\n\u001b[1;32m   1485\u001b[0m     \u001b[38;5;124m'\u001b[39m\u001b[38;5;124mtransition_matrices\u001b[39m\u001b[38;5;124m'\u001b[39m: np\u001b[38;5;241m.\u001b[39meye(n_dim_state),\n\u001b[1;32m   1486\u001b[0m     \u001b[38;5;124m'\u001b[39m\u001b[38;5;124mtransition_offsets\u001b[39m\u001b[38;5;124m'\u001b[39m: np\u001b[38;5;241m.\u001b[39mzeros(n_dim_state),\n\u001b[0;32m   (...)\u001b[0m\n\u001b[1;32m   1499\u001b[0m     ],\n\u001b[1;32m   1500\u001b[0m }\n\u001b[1;32m   1501\u001b[0m converters \u001b[38;5;241m=\u001b[39m {\n\u001b[1;32m   1502\u001b[0m     \u001b[38;5;124m'\u001b[39m\u001b[38;5;124mtransition_matrices\u001b[39m\u001b[38;5;124m'\u001b[39m: array2d,\n\u001b[1;32m   1503\u001b[0m     \u001b[38;5;124m'\u001b[39m\u001b[38;5;124mtransition_offsets\u001b[39m\u001b[38;5;124m'\u001b[39m: array1d,\n\u001b[0;32m   (...)\u001b[0m\n\u001b[1;32m   1513\u001b[0m     \u001b[38;5;124m'\u001b[39m\u001b[38;5;124mem_vars\u001b[39m\u001b[38;5;124m'\u001b[39m: \u001b[38;5;28;01mlambda\u001b[39;00m x: x,\n\u001b[1;32m   1514\u001b[0m }\n",
      "File \u001b[0;32m~/anaconda3/lib/python3.11/site-packages/pykalman/utils.py:118\u001b[0m, in \u001b[0;36mget_params\u001b[0;34m(obj)\u001b[0m\n\u001b[1;32m    116\u001b[0m     \u001b[38;5;28;01mreturn\u001b[39;00m argdict\n\u001b[1;32m    117\u001b[0m \u001b[38;5;28;01mexcept\u001b[39;00m:\n\u001b[0;32m--> 118\u001b[0m     \u001b[38;5;28;01mraise\u001b[39;00m \u001b[38;5;167;01mValueError\u001b[39;00m(\u001b[38;5;124m\"\u001b[39m\u001b[38;5;124mobject has no __init__ method\u001b[39m\u001b[38;5;124m\"\u001b[39m)\n",
      "\u001b[0;31mValueError\u001b[0m: object has no __init__ method"
     ]
    }
   ],
   "source": [
    "import yfinance as yf\n",
    "import pandas as pd\n",
    "import matplotlib.pyplot as plt\n",
    "from filterpy.kalman import KalmanFilter\n",
    "import numpy as np\n",
    "\n",
    "# Fetch historical price data from Yahoo Finance\n",
    "ticker_symbol = 'AAPL'\n",
    "start_date = '2022-01-01'\n",
    "end_date = '2022-12-31'\n",
    "data = yf.download(ticker_symbol, start=start_date, end=end_date)\n",
    "\n",
    "# Extract the 'Close' prices\n",
    "true_values = data['Close'].values\n",
    "\n",
    "# Generate noisy measurements using random noise\n",
    "np.random.seed(0)\n",
    "noisy_measurements = true_values + np.random.normal(0, 5, len(true_values))\n",
    "\n",
    "# Create a Kalman filter\n",
    "kf = KalmanFilter(dim_x=2, dim_z=1)\n",
    "kf.x = np.array([0, 0])  # initial state [position, velocity]\n",
    "kf.F = np.array([[1, 1], [0, 1]])  # state transition matrix\n",
    "kf.H = np.array([[1, 0]])  # observation matrix\n",
    "kf.P *= 1000  # initial covariance matrix\n",
    "kf.R = 25  # measurement noise covariance\n",
    "kf.Q = np.array([[0.001, 0], [0, 0.001]])  # process noise covariance\n",
    "\n",
    "# Apply the filter to noisy measurements\n",
    "(filtered_state_means, _) = kf.batch_filter(noisy_measurements)\n",
    "\n",
    "# Create a DataFrame with the original data, noisy measurements, and filtered results\n",
    "data = pd.DataFrame({'True Values': true_values, 'Noisy Measurements': noisy_measurements, 'Filtered Results': filtered_state_means[:, 0]})\n",
    "\n",
    "# Calculate moving averages of different window sizes\n",
    "data['MA_1m'] = data['Noisy Measurements'].rolling(window=1).mean()\n",
    "data['MA_2m'] = data['Noisy Measurements'].rolling(window=2).mean()\n",
    "data['MA_3m'] = data['Noisy Measurements'].rolling(window=3).mean()\n",
    "\n",
    "# Plot the results\n",
    "plt.figure(figsize=(12, 6))\n",
    "plt.plot(data.index, data['True Values'], label='True Values', color='blue')\n",
    "plt.plot(data.index, data['Noisy Measurements'], label='Noisy Measurements', color='red', alpha=0.5)\n",
    "plt.plot(data.index, data['Filtered Results'], label='Filtered Results', color='green')\n",
    "plt.plot(data.index, data['MA_1m'], label='1-Month Moving Average', color='orange', linestyle='--')\n",
    "plt.plot(data.index, data['MA_2m'], label='2-Month Moving Average', color='purple', linestyle='--')\n",
    "plt.plot(data.index, data['MA_3m'], label='3-Month Moving Average', color='brown', linestyle='--')\n",
    "plt.xlabel('Time')\n",
    "plt.ylabel('Price')\n",
    "plt.title(f'{ticker_symbol} Stock Price with Kalman Filter and Moving Averages')\n",
    "plt.legend()\n",
    "plt.tight_layout()\n",
    "plt.show()\n"
   ]
  },
  {
   "cell_type": "code",
   "execution_count": null,
   "id": "46bf4ce3-66ed-42cd-9138-d24840cf4f59",
   "metadata": {},
   "outputs": [],
   "source": []
  }
 ],
 "metadata": {
  "kernelspec": {
   "display_name": "Python 3 (ipykernel)",
   "language": "python",
   "name": "python3"
  },
  "language_info": {
   "codemirror_mode": {
    "name": "ipython",
    "version": 3
   },
   "file_extension": ".py",
   "mimetype": "text/x-python",
   "name": "python",
   "nbconvert_exporter": "python",
   "pygments_lexer": "ipython3",
   "version": "3.11.3"
  }
 },
 "nbformat": 4,
 "nbformat_minor": 5
}
