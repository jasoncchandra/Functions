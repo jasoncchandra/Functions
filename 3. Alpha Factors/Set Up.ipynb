{
 "cells": [
  {
   "cell_type": "markdown",
   "metadata": {
    "tags": []
   },
   "source": [
    "# Alpha Factors\n",
    "\n"
   ]
  },
  {
   "cell_type": "markdown",
   "metadata": {
    "jp-MarkdownHeadingCollapsed": true,
    "tags": []
   },
   "source": [
    "## 1.1 Set up - importing everything and setting it all up for SPX500"
   ]
  },
  {
   "cell_type": "code",
   "execution_count": 2,
   "metadata": {
    "ExecuteTime": {
     "end_time": "2021-04-15T19:42:23.001008Z",
     "start_time": "2021-04-15T19:42:22.924508Z"
    },
    "tags": []
   },
   "outputs": [
    {
     "name": "stdout",
     "output_type": "stream",
     "text": [
      "Error fetching market cap for BRK.B\n",
      "Error fetching market cap for BF.B\n",
      "[*********************100%%**********************]  1 of 1 completed\n",
      "[*********************100%%**********************]  1 of 1 completed\n",
      "[*********************100%%**********************]  1 of 1 completed\n",
      "[*********************100%%**********************]  1 of 1 completed\n",
      "[*********************100%%**********************]  1 of 1 completed\n",
      "[*********************100%%**********************]  1 of 1 completed\n",
      "[*********************100%%**********************]  1 of 1 completed\n",
      "[*********************100%%**********************]  1 of 1 completed\n",
      "[*********************100%%**********************]  1 of 1 completed\n",
      "[*********************100%%**********************]  1 of 1 completed\n",
      "[*********************100%%**********************]  1 of 1 completed\n",
      "[*********************100%%**********************]  1 of 1 completed\n",
      "[*********************100%%**********************]  1 of 1 completed\n",
      "[*********************100%%**********************]  1 of 1 completed\n",
      "[*********************100%%**********************]  1 of 1 completed\n",
      "[*********************100%%**********************]  1 of 1 completed\n",
      "[*********************100%%**********************]  1 of 1 completed\n",
      "[*********************100%%**********************]  1 of 1 completed\n",
      "[*********************100%%**********************]  1 of 1 completed\n",
      "[*********************100%%**********************]  1 of 1 completed\n",
      "[*********************100%%**********************]  1 of 1 completed\n",
      "[*********************100%%**********************]  1 of 1 completed\n",
      "[*********************100%%**********************]  1 of 1 completed\n",
      "[*********************100%%**********************]  1 of 1 completed\n",
      "[*********************100%%**********************]  1 of 1 completed\n",
      "[*********************100%%**********************]  1 of 1 completed\n",
      "[*********************100%%**********************]  1 of 1 completed\n",
      "[*********************100%%**********************]  1 of 1 completed\n",
      "[*********************100%%**********************]  1 of 1 completed\n",
      "[*********************100%%**********************]  1 of 1 completed\n",
      "[*********************100%%**********************]  1 of 1 completed\n",
      "[*********************100%%**********************]  1 of 1 completed\n",
      "[*********************100%%**********************]  1 of 1 completed\n",
      "[*********************100%%**********************]  1 of 1 completed\n",
      "[*********************100%%**********************]  1 of 1 completed\n",
      "[*********************100%%**********************]  1 of 1 completed\n",
      "[*********************100%%**********************]  1 of 1 completed\n",
      "[*********************100%%**********************]  1 of 1 completed\n",
      "[*********************100%%**********************]  1 of 1 completed\n",
      "[*********************100%%**********************]  1 of 1 completed\n",
      "[*********************100%%**********************]  1 of 1 completed\n",
      "[*********************100%%**********************]  1 of 1 completed\n",
      "[*********************100%%**********************]  1 of 1 completed\n",
      "[*********************100%%**********************]  1 of 1 completed\n",
      "[*********************100%%**********************]  1 of 1 completed\n",
      "[*********************100%%**********************]  1 of 1 completed\n",
      "[*********************100%%**********************]  1 of 1 completed\n",
      "[*********************100%%**********************]  1 of 1 completed\n",
      "[*********************100%%**********************]  1 of 1 completed\n",
      "[*********************100%%**********************]  1 of 1 completed\n",
      "[*********************100%%**********************]  1 of 1 completed\n",
      "[*********************100%%**********************]  1 of 1 completed\n",
      "[*********************100%%**********************]  1 of 1 completed\n",
      "[*********************100%%**********************]  1 of 1 completed\n",
      "[*********************100%%**********************]  1 of 1 completed\n",
      "[*********************100%%**********************]  1 of 1 completed\n",
      "[*********************100%%**********************]  1 of 1 completed\n",
      "[*********************100%%**********************]  1 of 1 completed\n",
      "[*********************100%%**********************]  1 of 1 completed\n",
      "[*********************100%%**********************]  1 of 1 completed\n",
      "[*********************100%%**********************]  1 of 1 completed\n",
      "[*********************100%%**********************]  1 of 1 completed\n",
      "[*********************100%%**********************]  1 of 1 completed\n",
      "[*********************100%%**********************]  1 of 1 completed\n",
      "[*********************100%%**********************]  1 of 1 completed\n",
      "[*********************100%%**********************]  1 of 1 completed\n",
      "[*********************100%%**********************]  1 of 1 completed\n",
      "[*********************100%%**********************]  1 of 1 completed\n",
      "[*********************100%%**********************]  1 of 1 completed\n",
      "[*********************100%%**********************]  1 of 1 completed\n",
      "[*********************100%%**********************]  1 of 1 completed\n",
      "[*********************100%%**********************]  1 of 1 completed\n",
      "[*********************100%%**********************]  1 of 1 completed\n",
      "[*********************100%%**********************]  1 of 1 completed\n",
      "[*********************100%%**********************]  1 of 1 completed\n",
      "[*********************100%%**********************]  1 of 1 completed\n",
      "[*********************100%%**********************]  1 of 1 completed\n",
      "[*********************100%%**********************]  1 of 1 completed\n",
      "[*********************100%%**********************]  1 of 1 completed\n",
      "[*********************100%%**********************]  1 of 1 completed\n",
      "[*********************100%%**********************]  1 of 1 completed\n",
      "[*********************100%%**********************]  1 of 1 completed\n",
      "[*********************100%%**********************]  1 of 1 completed\n",
      "[*********************100%%**********************]  1 of 1 completed\n",
      "[*********************100%%**********************]  1 of 1 completed\n",
      "[*********************100%%**********************]  1 of 1 completed\n",
      "[*********************100%%**********************]  1 of 1 completed\n",
      "[*********************100%%**********************]  1 of 1 completed\n",
      "[*********************100%%**********************]  1 of 1 completed\n",
      "[*********************100%%**********************]  1 of 1 completed\n",
      "[*********************100%%**********************]  1 of 1 completed\n",
      "[*********************100%%**********************]  1 of 1 completed\n",
      "[*********************100%%**********************]  1 of 1 completed\n",
      "[*********************100%%**********************]  1 of 1 completed\n",
      "[*********************100%%**********************]  1 of 1 completed\n",
      "[*********************100%%**********************]  1 of 1 completed\n",
      "[*********************100%%**********************]  1 of 1 completed\n",
      "[*********************100%%**********************]  1 of 1 completed\n",
      "[*********************100%%**********************]  1 of 1 completed\n",
      "[*********************100%%**********************]  1 of 1 completed\n",
      "                AAPL      MSFT      GOOG     GOOGL      AMZN      NVDA  \\\n",
      "Date                                                                     \n",
      "2022-02-28 -0.054066 -0.037212 -0.005951 -0.001822  0.026673 -0.004125   \n",
      "2022-03-31  0.057473  0.031862  0.035277  0.029695  0.061437  0.119157   \n",
      "2022-04-30 -0.097131 -0.099867 -0.176750 -0.179467 -0.237525 -0.320274   \n",
      "2022-05-31 -0.054496 -0.018077 -0.008068 -0.003045 -0.032764  0.006740   \n",
      "2022-06-30 -0.081430 -0.055321 -0.040920 -0.042185 -0.116459 -0.187971   \n",
      "2022-07-31  0.188634  0.093097  0.066447  0.067518  0.270596  0.198166   \n",
      "2022-08-31 -0.031208 -0.066663 -0.064215 -0.069635 -0.060615 -0.168970   \n",
      "2022-09-30 -0.120977 -0.109267 -0.119102 -0.116152 -0.108622 -0.195534   \n",
      "2022-10-31  0.109551 -0.003306 -0.015497 -0.011918 -0.093451  0.111871   \n",
      "2022-11-30 -0.033028  0.102223  0.071730  0.068564 -0.057595  0.254155   \n",
      "2022-12-31 -0.122272 -0.060045 -0.125382 -0.126349 -0.129894 -0.136442   \n",
      "2023-01-31  0.110521  0.033317  0.125549  0.120254  0.227738  0.336869   \n",
      "2023-02-28  0.023183  0.009018 -0.095825 -0.088830 -0.086299  0.188309   \n",
      "2023-03-31  0.118649  0.155882  0.151716  0.151788  0.096148  0.196662   \n",
      "2023-04-30  0.028987  0.065765  0.040577  0.034802  0.020912 -0.001008   \n",
      "2023-05-31  0.046058  0.071105  0.139993  0.144681  0.143480  0.363437   \n",
      "2023-06-30  0.094330  0.036999 -0.019454 -0.025800  0.081108  0.118211   \n",
      "2023-07-31  0.012785 -0.013567  0.100355  0.108772  0.025468  0.104652   \n",
      "2023-08-31 -0.076510 -0.024284  0.000451 -0.002976  0.011296  0.006689   \n",
      "\n",
      "                META      TSLA       LLY         V  ...       ETN       CVS  \\\n",
      "Date                                                ...                       \n",
      "2022-02-28 -0.326342 -0.070768  0.022835 -0.042881  ... -0.026131 -0.026852   \n",
      "2022-03-31  0.053689  0.238009  0.145709  0.026143  ... -0.011026 -0.023541   \n",
      "2022-04-30 -0.098444 -0.191945  0.020114 -0.038959  ... -0.044412 -0.045269   \n",
      "2022-05-31 -0.034070 -0.129197  0.076562 -0.002603  ... -0.038740  0.006449   \n",
      "2022-06-30 -0.167269 -0.111888  0.034425 -0.072018  ... -0.090981 -0.042274   \n",
      "2022-07-31 -0.013333  0.323765  0.016840  0.077302  ...  0.177792  0.038596   \n",
      "2022-08-31  0.024073 -0.072489 -0.083341 -0.061515  ... -0.074162  0.025815   \n",
      "2022-09-30 -0.167250 -0.037589  0.073432 -0.105984  ... -0.024005 -0.028324   \n",
      "2022-10-31 -0.313384 -0.142168  0.119808  0.166113  ...  0.125300 -0.001031   \n",
      "2022-11-30  0.267711 -0.144326  0.027687  0.049841  ...  0.094764  0.075818   \n",
      "2022-12-31  0.018967 -0.367334 -0.014121 -0.042581  ... -0.039767 -0.085296   \n",
      "2023-01-31  0.237909  0.406235 -0.059288  0.108057  ...  0.033514 -0.046793   \n",
      "2023-02-28  0.174330  0.187565 -0.092759 -0.042740  ...  0.078417 -0.053049   \n",
      "2023-03-31  0.211501  0.008507  0.103464  0.025098  ... -0.015689 -0.110486   \n",
      "2023-04-30  0.133906 -0.207992  0.152699  0.032245  ... -0.024629 -0.005348   \n",
      "2023-05-31  0.101531  0.241130  0.087701 -0.048421  ...  0.057939 -0.072023   \n",
      "2023-06-30  0.084089  0.283627  0.092023  0.074424  ...  0.143263  0.016169   \n",
      "2023-07-31  0.110182  0.021622 -0.030769  0.001053  ...  0.020985  0.089288   \n",
      "2023-08-31 -0.075487 -0.113805  0.220728  0.020887  ...  0.082508 -0.111862   \n",
      "\n",
      "                 ZTS       SLB        CI       AMT        CB         C  \\\n",
      "Date                                                                     \n",
      "2022-02-28 -0.030732  0.007478  0.031762 -0.097933  0.032239 -0.083284   \n",
      "2022-03-31 -0.026130  0.052753  0.012464  0.107330  0.054381 -0.098430   \n",
      "2022-04-30 -0.058485 -0.055677  0.029924 -0.035474 -0.034829 -0.087891   \n",
      "2022-05-31 -0.035656  0.182452  0.087163  0.062692  0.023444  0.107862   \n",
      "2022-06-30  0.005616 -0.221932 -0.013502  0.003838 -0.065729 -0.138925   \n",
      "2022-07-31  0.063965  0.035514  0.044930  0.059627 -0.040391  0.139634   \n",
      "2022-08-31 -0.142536  0.030246  0.029380 -0.061958  0.002174 -0.059537   \n",
      "2022-09-30 -0.052642 -0.054632 -0.017272 -0.154891 -0.033777 -0.146282   \n",
      "2022-10-31  0.018952  0.449303  0.164306 -0.027942  0.181493  0.100552   \n",
      "2022-11-30  0.022284 -0.009225  0.018046  0.067860  0.021872  0.067820   \n",
      "2022-12-31 -0.049241  0.040596  0.010910 -0.035357  0.008460 -0.065689   \n",
      "2023-01-31  0.131892  0.065844 -0.044275  0.054423  0.031233  0.154544   \n",
      "2023-02-28  0.009124 -0.061745 -0.077589 -0.113613 -0.072399 -0.019725   \n",
      "2023-03-31 -0.003353 -0.077241 -0.121451  0.031968 -0.075709 -0.074966   \n",
      "2023-04-30  0.058385  0.005092 -0.008766  0.007686  0.038006  0.014844   \n",
      "2023-05-31 -0.072648 -0.132118 -0.023214 -0.097607 -0.078190 -0.058424   \n",
      "2023-06-30  0.056438  0.153097  0.139484  0.060130  0.041125  0.038809   \n",
      "2023-07-31  0.094615  0.187704  0.051675 -0.018717  0.061539  0.035187   \n",
      "2023-08-31 -0.022117 -0.009513 -0.045002 -0.066313 -0.017269 -0.127742   \n",
      "\n",
      "                 BDX       PGR  \n",
      "Date                            \n",
      "2022-02-28  0.067443 -0.025124  \n",
      "2022-03-31 -0.016235  0.076088  \n",
      "2022-04-30 -0.047482 -0.057338  \n",
      "2022-05-31  0.034832  0.111960  \n",
      "2022-06-30 -0.032977 -0.026051  \n",
      "2022-07-31 -0.009005 -0.009561  \n",
      "2022-08-31  0.033195  0.065966  \n",
      "2022-09-30 -0.114250 -0.052507  \n",
      "2022-10-31  0.058969  0.105800  \n",
      "2022-11-30  0.056660  0.029206  \n",
      "2022-12-31  0.023672 -0.018464  \n",
      "2023-01-31 -0.008179  0.051993  \n",
      "2023-02-28 -0.070058  0.052585  \n",
      "2023-03-31  0.059481 -0.003205  \n",
      "2023-04-30  0.067747 -0.045893  \n",
      "2023-05-31 -0.085316 -0.062243  \n",
      "2023-06-30  0.095988  0.034868  \n",
      "2023-07-31  0.055339 -0.047549  \n",
      "2023-08-31 -0.007824  0.034609  \n",
      "\n",
      "[19 rows x 100 columns]\n"
     ]
    }
   ],
   "source": [
    "import warnings\n",
    "warnings.filterwarnings('ignore')\n",
    "\n",
    "%matplotlib inline\n",
    "\n",
    "from datetime import datetime\n",
    "import pandas as pd\n",
    "import pandas_datareader.data as web\n",
    "from statsmodels.regression.rolling import RollingOLS\n",
    "import statsmodels.api as sm\n",
    "import matplotlib.pyplot as plt\n",
    "import seaborn as sns\n",
    "\n",
    "sns.set_style('whitegrid')\n",
    "idx = pd.IndexSlice\n",
    "\n",
    "# Define start and end dates\n",
    "start_date = datetime(2022, 1, 1)\n",
    "end_date = datetime(2023, 12, 31)\n",
    "\n",
    "# Fetch using yfinance\n",
    "import yfinance as yf\n",
    "\n",
    "# Fetch the list of S&P 500 companies along with their market capitalization\n",
    "sp500_info = pd.read_html('https://en.wikipedia.org/wiki/List_of_S%26P_500_companies')[0]\n",
    "sp500_info = sp500_info.rename(columns={'Symbol': 'Ticker'})\n",
    "\n",
    "# Fetch market capitalization using yfinance\n",
    "market_caps = {}\n",
    "for ticker in sp500_info['Ticker']:\n",
    "    try:\n",
    "        stock_info = yf.Ticker(ticker)\n",
    "        market_cap = stock_info.info['marketCap']\n",
    "        market_caps[ticker] = market_cap\n",
    "    except:\n",
    "        print(f\"Error fetching market cap for {ticker}\")\n",
    "\n",
    "# Convert market caps to DataFrame\n",
    "market_caps_df = pd.DataFrame.from_dict(market_caps, orient='index', columns=['MarketCap'])\n",
    "market_caps_df = market_caps_df.sort_values(by='MarketCap', ascending=False)\n",
    "\n",
    "# Select the top 100 companies by market capitalization\n",
    "top_symbols = market_caps_df.head(100).index\n",
    "\n",
    "# Create a DataFrame to store monthly returns for the top 100 companies\n",
    "top_returns = pd.DataFrame()\n",
    "\n",
    "# Fetch and calculate returns for the top 100 S&P 500 companies\n",
    "for stock_symbol in top_symbols:\n",
    "    try:\n",
    "        stock_data = yf.download(stock_symbol, start=start_date, end=end_date)\n",
    "        stock_prices = stock_data['Adj Close']\n",
    "        monthly_returns = stock_prices.resample('M').ffill().pct_change().dropna() #code to resample to monthly returns\n",
    "        top_returns[stock_symbol] = monthly_returns\n",
    "    except:\n",
    "        print(f\"Error fetching data for {stock_symbol}\")\n",
    "\n",
    "# Print the returns for the top 100 companies\n",
    "print(top_returns)\n"
   ]
  },
  {
   "cell_type": "code",
   "execution_count": 3,
   "metadata": {
    "ExecuteTime": {
     "end_time": "2021-04-15T19:42:32.759315Z",
     "start_time": "2021-04-15T19:42:32.695113Z"
    },
    "tags": []
   },
   "outputs": [
    {
     "data": {
      "text/html": [
       "<div>\n",
       "<style scoped>\n",
       "    .dataframe tbody tr th:only-of-type {\n",
       "        vertical-align: middle;\n",
       "    }\n",
       "\n",
       "    .dataframe tbody tr th {\n",
       "        vertical-align: top;\n",
       "    }\n",
       "\n",
       "    .dataframe thead th {\n",
       "        text-align: right;\n",
       "    }\n",
       "</style>\n",
       "<table border=\"1\" class=\"dataframe\">\n",
       "  <thead>\n",
       "    <tr style=\"text-align: right;\">\n",
       "      <th></th>\n",
       "      <th>AAPL</th>\n",
       "      <th>MSFT</th>\n",
       "      <th>GOOG</th>\n",
       "      <th>GOOGL</th>\n",
       "      <th>AMZN</th>\n",
       "      <th>NVDA</th>\n",
       "      <th>META</th>\n",
       "      <th>TSLA</th>\n",
       "      <th>LLY</th>\n",
       "      <th>V</th>\n",
       "      <th>...</th>\n",
       "      <th>ETN</th>\n",
       "      <th>CVS</th>\n",
       "      <th>ZTS</th>\n",
       "      <th>SLB</th>\n",
       "      <th>CI</th>\n",
       "      <th>AMT</th>\n",
       "      <th>CB</th>\n",
       "      <th>C</th>\n",
       "      <th>BDX</th>\n",
       "      <th>PGR</th>\n",
       "    </tr>\n",
       "  </thead>\n",
       "  <tbody>\n",
       "    <tr>\n",
       "      <th>count</th>\n",
       "      <td>19.000000</td>\n",
       "      <td>19.000000</td>\n",
       "      <td>19.000000</td>\n",
       "      <td>19.000000</td>\n",
       "      <td>19.000000</td>\n",
       "      <td>19.000000</td>\n",
       "      <td>19.000000</td>\n",
       "      <td>19.000000</td>\n",
       "      <td>19.000000</td>\n",
       "      <td>19.000000</td>\n",
       "      <td>...</td>\n",
       "      <td>19.000000</td>\n",
       "      <td>19.000000</td>\n",
       "      <td>19.000000</td>\n",
       "      <td>19.000000</td>\n",
       "      <td>19.000000</td>\n",
       "      <td>19.000000</td>\n",
       "      <td>19.000000</td>\n",
       "      <td>19.000000</td>\n",
       "      <td>19.000000</td>\n",
       "      <td>19.000000</td>\n",
       "    </tr>\n",
       "    <tr>\n",
       "      <th>mean</th>\n",
       "      <td>0.006266</td>\n",
       "      <td>0.005877</td>\n",
       "      <td>0.003207</td>\n",
       "      <td>0.003047</td>\n",
       "      <td>0.002191</td>\n",
       "      <td>0.052137</td>\n",
       "      <td>0.011701</td>\n",
       "      <td>0.006366</td>\n",
       "      <td>0.048092</td>\n",
       "      <td>0.006498</td>\n",
       "      <td>...</td>\n",
       "      <td>0.022365</td>\n",
       "      <td>-0.021053</td>\n",
       "      <td>-0.001698</td>\n",
       "      <td>0.030947</td>\n",
       "      <td>0.014156</td>\n",
       "      <td>-0.013382</td>\n",
       "      <td>0.004088</td>\n",
       "      <td>-0.015876</td>\n",
       "      <td>0.008526</td>\n",
       "      <td>0.011323</td>\n",
       "    </tr>\n",
       "    <tr>\n",
       "      <th>std</th>\n",
       "      <td>0.090816</td>\n",
       "      <td>0.071194</td>\n",
       "      <td>0.093557</td>\n",
       "      <td>0.093824</td>\n",
       "      <td>0.126930</td>\n",
       "      <td>0.189587</td>\n",
       "      <td>0.171505</td>\n",
       "      <td>0.212126</td>\n",
       "      <td>0.083390</td>\n",
       "      <td>0.068641</td>\n",
       "      <td>...</td>\n",
       "      <td>0.076831</td>\n",
       "      <td>0.055722</td>\n",
       "      <td>0.064790</td>\n",
       "      <td>0.143257</td>\n",
       "      <td>0.068374</td>\n",
       "      <td>0.072944</td>\n",
       "      <td>0.062943</td>\n",
       "      <td>0.096191</td>\n",
       "      <td>0.058779</td>\n",
       "      <td>0.055880</td>\n",
       "    </tr>\n",
       "    <tr>\n",
       "      <th>min</th>\n",
       "      <td>-0.122272</td>\n",
       "      <td>-0.109267</td>\n",
       "      <td>-0.176750</td>\n",
       "      <td>-0.179467</td>\n",
       "      <td>-0.237525</td>\n",
       "      <td>-0.320274</td>\n",
       "      <td>-0.326342</td>\n",
       "      <td>-0.367334</td>\n",
       "      <td>-0.092759</td>\n",
       "      <td>-0.105984</td>\n",
       "      <td>...</td>\n",
       "      <td>-0.090981</td>\n",
       "      <td>-0.111862</td>\n",
       "      <td>-0.142536</td>\n",
       "      <td>-0.221932</td>\n",
       "      <td>-0.121451</td>\n",
       "      <td>-0.154891</td>\n",
       "      <td>-0.078190</td>\n",
       "      <td>-0.146282</td>\n",
       "      <td>-0.114250</td>\n",
       "      <td>-0.062243</td>\n",
       "    </tr>\n",
       "    <tr>\n",
       "      <th>25%</th>\n",
       "      <td>-0.065503</td>\n",
       "      <td>-0.046266</td>\n",
       "      <td>-0.052567</td>\n",
       "      <td>-0.055910</td>\n",
       "      <td>-0.089875</td>\n",
       "      <td>-0.070283</td>\n",
       "      <td>-0.086965</td>\n",
       "      <td>-0.135683</td>\n",
       "      <td>0.001360</td>\n",
       "      <td>-0.042811</td>\n",
       "      <td>...</td>\n",
       "      <td>-0.032436</td>\n",
       "      <td>-0.049921</td>\n",
       "      <td>-0.042448</td>\n",
       "      <td>-0.055154</td>\n",
       "      <td>-0.020243</td>\n",
       "      <td>-0.064135</td>\n",
       "      <td>-0.037610</td>\n",
       "      <td>-0.085588</td>\n",
       "      <td>-0.024606</td>\n",
       "      <td>-0.035972</td>\n",
       "    </tr>\n",
       "    <tr>\n",
       "      <th>50%</th>\n",
       "      <td>0.012785</td>\n",
       "      <td>-0.003306</td>\n",
       "      <td>-0.005951</td>\n",
       "      <td>-0.002976</td>\n",
       "      <td>0.011296</td>\n",
       "      <td>0.104652</td>\n",
       "      <td>0.024073</td>\n",
       "      <td>-0.070768</td>\n",
       "      <td>0.034425</td>\n",
       "      <td>0.001053</td>\n",
       "      <td>...</td>\n",
       "      <td>-0.011026</td>\n",
       "      <td>-0.026852</td>\n",
       "      <td>-0.003353</td>\n",
       "      <td>0.007478</td>\n",
       "      <td>0.012464</td>\n",
       "      <td>-0.018717</td>\n",
       "      <td>0.008460</td>\n",
       "      <td>-0.058424</td>\n",
       "      <td>0.023672</td>\n",
       "      <td>-0.003205</td>\n",
       "    </tr>\n",
       "    <tr>\n",
       "      <th>75%</th>\n",
       "      <td>0.075902</td>\n",
       "      <td>0.051382</td>\n",
       "      <td>0.069089</td>\n",
       "      <td>0.068041</td>\n",
       "      <td>0.071273</td>\n",
       "      <td>0.192486</td>\n",
       "      <td>0.122044</td>\n",
       "      <td>0.212787</td>\n",
       "      <td>0.097743</td>\n",
       "      <td>0.041043</td>\n",
       "      <td>...</td>\n",
       "      <td>0.080462</td>\n",
       "      <td>0.011309</td>\n",
       "      <td>0.039361</td>\n",
       "      <td>0.059298</td>\n",
       "      <td>0.038346</td>\n",
       "      <td>0.057025</td>\n",
       "      <td>0.035122</td>\n",
       "      <td>0.053314</td>\n",
       "      <td>0.057814</td>\n",
       "      <td>0.052289</td>\n",
       "    </tr>\n",
       "    <tr>\n",
       "      <th>max</th>\n",
       "      <td>0.188634</td>\n",
       "      <td>0.155882</td>\n",
       "      <td>0.151716</td>\n",
       "      <td>0.151788</td>\n",
       "      <td>0.270596</td>\n",
       "      <td>0.363437</td>\n",
       "      <td>0.267711</td>\n",
       "      <td>0.406235</td>\n",
       "      <td>0.220728</td>\n",
       "      <td>0.166113</td>\n",
       "      <td>...</td>\n",
       "      <td>0.177792</td>\n",
       "      <td>0.089288</td>\n",
       "      <td>0.131892</td>\n",
       "      <td>0.449303</td>\n",
       "      <td>0.164306</td>\n",
       "      <td>0.107330</td>\n",
       "      <td>0.181493</td>\n",
       "      <td>0.154544</td>\n",
       "      <td>0.095988</td>\n",
       "      <td>0.111960</td>\n",
       "    </tr>\n",
       "  </tbody>\n",
       "</table>\n",
       "<p>8 rows × 100 columns</p>\n",
       "</div>"
      ],
      "text/plain": [
       "            AAPL       MSFT       GOOG      GOOGL       AMZN       NVDA  \\\n",
       "count  19.000000  19.000000  19.000000  19.000000  19.000000  19.000000   \n",
       "mean    0.006266   0.005877   0.003207   0.003047   0.002191   0.052137   \n",
       "std     0.090816   0.071194   0.093557   0.093824   0.126930   0.189587   \n",
       "min    -0.122272  -0.109267  -0.176750  -0.179467  -0.237525  -0.320274   \n",
       "25%    -0.065503  -0.046266  -0.052567  -0.055910  -0.089875  -0.070283   \n",
       "50%     0.012785  -0.003306  -0.005951  -0.002976   0.011296   0.104652   \n",
       "75%     0.075902   0.051382   0.069089   0.068041   0.071273   0.192486   \n",
       "max     0.188634   0.155882   0.151716   0.151788   0.270596   0.363437   \n",
       "\n",
       "            META       TSLA        LLY          V  ...        ETN        CVS  \\\n",
       "count  19.000000  19.000000  19.000000  19.000000  ...  19.000000  19.000000   \n",
       "mean    0.011701   0.006366   0.048092   0.006498  ...   0.022365  -0.021053   \n",
       "std     0.171505   0.212126   0.083390   0.068641  ...   0.076831   0.055722   \n",
       "min    -0.326342  -0.367334  -0.092759  -0.105984  ...  -0.090981  -0.111862   \n",
       "25%    -0.086965  -0.135683   0.001360  -0.042811  ...  -0.032436  -0.049921   \n",
       "50%     0.024073  -0.070768   0.034425   0.001053  ...  -0.011026  -0.026852   \n",
       "75%     0.122044   0.212787   0.097743   0.041043  ...   0.080462   0.011309   \n",
       "max     0.267711   0.406235   0.220728   0.166113  ...   0.177792   0.089288   \n",
       "\n",
       "             ZTS        SLB         CI        AMT         CB          C  \\\n",
       "count  19.000000  19.000000  19.000000  19.000000  19.000000  19.000000   \n",
       "mean   -0.001698   0.030947   0.014156  -0.013382   0.004088  -0.015876   \n",
       "std     0.064790   0.143257   0.068374   0.072944   0.062943   0.096191   \n",
       "min    -0.142536  -0.221932  -0.121451  -0.154891  -0.078190  -0.146282   \n",
       "25%    -0.042448  -0.055154  -0.020243  -0.064135  -0.037610  -0.085588   \n",
       "50%    -0.003353   0.007478   0.012464  -0.018717   0.008460  -0.058424   \n",
       "75%     0.039361   0.059298   0.038346   0.057025   0.035122   0.053314   \n",
       "max     0.131892   0.449303   0.164306   0.107330   0.181493   0.154544   \n",
       "\n",
       "             BDX        PGR  \n",
       "count  19.000000  19.000000  \n",
       "mean    0.008526   0.011323  \n",
       "std     0.058779   0.055880  \n",
       "min    -0.114250  -0.062243  \n",
       "25%    -0.024606  -0.035972  \n",
       "50%     0.023672  -0.003205  \n",
       "75%     0.057814   0.052289  \n",
       "max     0.095988   0.111960  \n",
       "\n",
       "[8 rows x 100 columns]"
      ]
     },
     "execution_count": 3,
     "metadata": {},
     "output_type": "execute_result"
    }
   ],
   "source": [
    "top_returns.describe()"
   ]
  },
  {
   "cell_type": "code",
   "execution_count": 4,
   "metadata": {
    "tags": []
   },
   "outputs": [],
   "source": [
    "# Calculate multiple historical returns with different lag periods and filter out outliers"
   ]
  },
  {
   "cell_type": "code",
   "execution_count": 5,
   "metadata": {
    "tags": []
   },
   "outputs": [
    {
     "name": "stdout",
     "output_type": "stream",
     "text": [
      "                 return_1m  return_2m  return_3m  return_6m  return_9m  \\\n",
      "     Date                                                                \n",
      "CRM  2023-02-28  -1.097276  -0.612207   0.217245  -0.254835  -0.128207   \n",
      "INTU 2023-02-28  -1.415807  -0.098257  -0.076780  -0.061010   0.152140   \n",
      "NOW  2023-02-28  -1.292957  -0.134415   0.684570   0.110106   0.095307   \n",
      "LMT  2023-02-28  -1.632255   2.356755   1.123015   0.054518   0.021823   \n",
      "CVS  2023-03-31   1.082710   0.536600   0.090081   0.254658   0.112653   \n",
      "UNH  2023-05-31  -1.238862   0.677584  -0.404091  -0.048862  -0.149721   \n",
      "MDT  2023-05-31  -1.702787   1.238230   1.038244  -0.008934   0.068224   \n",
      "AAPL 2023-07-31  -0.864460  -0.473129  -0.238793  -0.301963  -0.212330   \n",
      "COST 2023-07-31  -0.210307   0.488211   0.479664  -0.162165  -0.046927   \n",
      "WFC  2023-07-31   0.131007   1.954004   0.087465  -0.080763  -0.060849   \n",
      "GE   2023-07-31  -0.502935   0.254882   0.049357  -0.250834  -0.185023   \n",
      "UNH  2023-08-31  -1.613671   0.859952   0.493778  -0.056519   0.105582   \n",
      "\n",
      "                 return_12m  \n",
      "     Date                    \n",
      "CRM  2023-02-28   -0.102480  \n",
      "INTU 2023-02-28   -0.108614  \n",
      "NOW  2023-02-28    0.144342  \n",
      "LMT  2023-02-28   -0.110144  \n",
      "CVS  2023-03-31    0.137515  \n",
      "UNH  2023-05-31   -0.068668  \n",
      "MDT  2023-05-31    0.069205  \n",
      "AAPL 2023-07-31   -0.200918  \n",
      "COST 2023-07-31   -0.091729  \n",
      "WFC  2023-07-31   -0.031683  \n",
      "GE   2023-07-31   -0.108137  \n",
      "UNH  2023-08-31   -0.021091  \n"
     ]
    }
   ],
   "source": [
    "\n",
    "outlier_cutoff = 0.01\n",
    "data = pd.DataFrame()\n",
    "lags = [1, 2, 3, 6, 9, 12]\n",
    "for lag in lags:\n",
    "    data[f'return_{lag}m'] = (top_returns\n",
    "                              .pct_change(lag)\n",
    "                              .stack()\n",
    "                              .pipe(lambda x: x.clip(lower=x.quantile(outlier_cutoff), upper=x.quantile(1-outlier_cutoff)))\n",
    "                              .add(1)\n",
    "                              .pow(1/lag)\n",
    "                              .sub(1)\n",
    "                              )\n",
    "data = data.swaplevel().dropna()\n",
    "\n",
    "# Print the calculated multiple historical returns\n",
    "print(data)"
   ]
  },
  {
   "cell_type": "code",
   "execution_count": 6,
   "metadata": {
    "ExecuteTime": {
     "end_time": "2021-04-15T19:42:33.428516Z",
     "start_time": "2021-04-15T19:42:32.760414Z"
    },
    "tags": []
   },
   "outputs": [
    {
     "data": {
      "image/png": "[encoded data removed]",
      "text/plain": [
       "<Figure size 1000x1000 with 4 Axes>"
      ]
     },
     "metadata": {},
     "output_type": "display_data"
    }
   ],
   "source": [
    "# Calculate the Spearman correlation matrix\n",
    "correlation_matrix = data.corr('spearman')\n",
    "\n",
    "# Create a cluster map\n",
    "sns.set(rc={'figure.figsize':(10, 8)})\n",
    "clustermap = sns.clustermap(correlation_matrix, annot=True, center=0, cmap='Blues')\n",
    "\n",
    "# Adjust plot aesthetics\n",
    "plt.setp(clustermap.ax_heatmap.get_xticklabels(), rotation=45, ha=\"right\")\n",
    "plt.setp(clustermap.ax_heatmap.get_yticklabels(), rotation=0)\n",
    "plt.title(\"Cluster Map of Spearman Correlation\")\n",
    "\n",
    "# Show the plot\n",
    "plt.show()"
   ]
  },
  {
   "cell_type": "markdown",
   "metadata": {
    "jp-MarkdownHeadingCollapsed": true,
    "tags": []
   },
   "source": [
    "## LATER Rolling Factor Betas"
   ]
  },
  {
   "cell_type": "markdown",
   "metadata": {},
   "source": [
    "We will introduce the Fama—French data to estimate the exposure of assets to common risk factors using linear regression in [Chapter 9, Time Series Models](../09_time_series_models)."
   ]
  },
  {
   "cell_type": "markdown",
   "metadata": {},
   "source": [
    "The five Fama—French factors, namely market risk, size, value, operating profitability, and investment have been shown empirically to explain asset returns and are commonly used to assess the risk/return profile of portfolios. Hence, it is natural to include past factor exposures as financial features in models that aim to predict future returns."
   ]
  },
  {
   "cell_type": "markdown",
   "metadata": {},
   "source": [
    "We can access the historical factor returns using the `pandas-datareader` and estimate historical exposures using the `RollingOLS` rolling linear regression functionality in the `statsmodels` library as follows:"
   ]
  },
  {
   "cell_type": "markdown",
   "metadata": {},
   "source": [
    "Use Fama-French research factors to estimate the factor exposures of the stock in the dataset to the 5 factors market risk, size, value, operating profitability and investment."
   ]
  },
  {
   "cell_type": "code",
   "execution_count": 21,
   "metadata": {
    "ExecuteTime": {
     "end_time": "2021-04-15T19:42:33.769036Z",
     "start_time": "2021-04-15T19:42:33.465722Z"
    }
   },
   "outputs": [
    {
     "name": "stdout",
     "output_type": "stream",
     "text": [
      "<class 'pandas.core.frame.DataFrame'>\n",
      "DatetimeIndex: 254 entries, 2000-01-31 to 2021-02-28\n",
      "Freq: M\n",
      "Data columns (total 5 columns):\n",
      " #   Column  Non-Null Count  Dtype  \n",
      "---  ------  --------------  -----  \n",
      " 0   Mkt-RF  254 non-null    float64\n",
      " 1   SMB     254 non-null    float64\n",
      " 2   HML     254 non-null    float64\n",
      " 3   RMW     254 non-null    float64\n",
      " 4   CMA     254 non-null    float64\n",
      "dtypes: float64(5)\n",
      "memory usage: 11.9 KB\n"
     ]
    }
   ],
   "source": [
    "factors = ['Mkt-RF', 'SMB', 'HML', 'RMW', 'CMA']\n",
    "factor_data = web.DataReader('F-F_Research_Data_5_Factors_2x3', 'famafrench', start='2000')[0].drop('RF', axis=1)\n",
    "factor_data.index = factor_data.index.to_timestamp()\n",
    "factor_data = factor_data.resample('M').last().div(100)\n",
    "factor_data.index.name = 'date'\n",
    "factor_data.info()"
   ]
  },
  {
   "cell_type": "code",
   "execution_count": 22,
   "metadata": {
    "ExecuteTime": {
     "end_time": "2021-04-15T19:42:33.816362Z",
     "start_time": "2021-04-15T19:42:33.769871Z"
    },
    "scrolled": true
   },
   "outputs": [
    {
     "name": "stdout",
     "output_type": "stream",
     "text": [
      "<class 'pandas.core.frame.DataFrame'>\n",
      "MultiIndex: 360752 entries, ('A', Timestamp('2001-01-31 00:00:00', freq='M')) to ('ZUMZ', Timestamp('2018-03-31 00:00:00', freq='M'))\n",
      "Data columns (total 6 columns):\n",
      " #   Column     Non-Null Count   Dtype  \n",
      "---  ------     --------------   -----  \n",
      " 0   Mkt-RF     360752 non-null  float64\n",
      " 1   SMB        360752 non-null  float64\n",
      " 2   HML        360752 non-null  float64\n",
      " 3   RMW        360752 non-null  float64\n",
      " 4   CMA        360752 non-null  float64\n",
      " 5   return_1m  360752 non-null  float64\n",
      "dtypes: float64(6)\n",
      "memory usage: 18.0+ MB\n"
     ]
    }
   ],
   "source": [
    "factor_data = factor_data.join(data['return_1m']).sort_index()\n",
    "factor_data.info()"
   ]
  },
  {
   "cell_type": "code",
   "execution_count": 23,
   "metadata": {
    "ExecuteTime": {
     "end_time": "2021-04-15T19:42:45.008104Z",
     "start_time": "2021-04-15T19:42:33.817495Z"
    }
   },
   "outputs": [],
   "source": [
    "T = 24\n",
    "betas = (factor_data.groupby(level='ticker',\n",
    "                             group_keys=False)\n",
    "         .apply(lambda x: RollingOLS(endog=x.return_1m,\n",
    "                                     exog=sm.add_constant(x.drop('return_1m', axis=1)),\n",
    "                                     window=min(T, x.shape[0]-1))\n",
    "                .fit(params_only=True)\n",
    "                .params\n",
    "                .drop('const', axis=1)))"
   ]
  },
  {
   "cell_type": "code",
   "execution_count": 24,
   "metadata": {
    "ExecuteTime": {
     "end_time": "2021-04-15T19:42:45.092905Z",
     "start_time": "2021-04-15T19:42:45.009169Z"
    }
   },
   "outputs": [
    {
     "data": {
      "text/html": [
       "<div>\n",
       "<style scoped>\n",
       "    .dataframe tbody tr th:only-of-type {\n",
       "        vertical-align: middle;\n",
       "    }\n",
       "\n",
       "    .dataframe tbody tr th {\n",
       "        vertical-align: top;\n",
       "    }\n",
       "\n",
       "    .dataframe thead th {\n",
       "        text-align: right;\n",
       "    }\n",
       "</style>\n",
       "<table border=\"1\" class=\"dataframe\">\n",
       "  <thead>\n",
       "    <tr style=\"text-align: right;\">\n",
       "      <th></th>\n",
       "      <th>Mkt-RF</th>\n",
       "      <th>SMB</th>\n",
       "      <th>HML</th>\n",
       "      <th>RMW</th>\n",
       "      <th>CMA</th>\n",
       "      <th>total</th>\n",
       "    </tr>\n",
       "  </thead>\n",
       "  <tbody>\n",
       "    <tr>\n",
       "      <th>count</th>\n",
       "      <td>318478.000000</td>\n",
       "      <td>318478.000000</td>\n",
       "      <td>318478.000000</td>\n",
       "      <td>318478.000000</td>\n",
       "      <td>318478.000000</td>\n",
       "      <td>360752.000000</td>\n",
       "    </tr>\n",
       "    <tr>\n",
       "      <th>mean</th>\n",
       "      <td>0.981855</td>\n",
       "      <td>0.628163</td>\n",
       "      <td>0.128131</td>\n",
       "      <td>-0.059253</td>\n",
       "      <td>0.013774</td>\n",
       "      <td>1.494318</td>\n",
       "    </tr>\n",
       "    <tr>\n",
       "      <th>std</th>\n",
       "      <td>0.918800</td>\n",
       "      <td>1.248071</td>\n",
       "      <td>1.615972</td>\n",
       "      <td>1.919938</td>\n",
       "      <td>2.182730</td>\n",
       "      <td>3.291402</td>\n",
       "    </tr>\n",
       "    <tr>\n",
       "      <th>min</th>\n",
       "      <td>-9.922641</td>\n",
       "      <td>-10.212033</td>\n",
       "      <td>-17.654894</td>\n",
       "      <td>-22.925165</td>\n",
       "      <td>-18.182706</td>\n",
       "      <td>-31.429456</td>\n",
       "    </tr>\n",
       "    <tr>\n",
       "      <th>25%</th>\n",
       "      <td>0.465445</td>\n",
       "      <td>-0.114605</td>\n",
       "      <td>-0.710399</td>\n",
       "      <td>-0.979216</td>\n",
       "      <td>-1.086919</td>\n",
       "      <td>0.000000</td>\n",
       "    </tr>\n",
       "    <tr>\n",
       "      <th>50%</th>\n",
       "      <td>0.932070</td>\n",
       "      <td>0.542998</td>\n",
       "      <td>0.101903</td>\n",
       "      <td>0.039229</td>\n",
       "      <td>0.032834</td>\n",
       "      <td>1.214277</td>\n",
       "    </tr>\n",
       "    <tr>\n",
       "      <th>75%</th>\n",
       "      <td>1.447381</td>\n",
       "      <td>1.303487</td>\n",
       "      <td>0.955263</td>\n",
       "      <td>0.955362</td>\n",
       "      <td>1.140431</td>\n",
       "      <td>3.145515</td>\n",
       "    </tr>\n",
       "    <tr>\n",
       "      <th>max</th>\n",
       "      <td>10.916430</td>\n",
       "      <td>10.373043</td>\n",
       "      <td>14.558920</td>\n",
       "      <td>17.413382</td>\n",
       "      <td>17.626042</td>\n",
       "      <td>33.316296</td>\n",
       "    </tr>\n",
       "  </tbody>\n",
       "</table>\n",
       "</div>"
      ],
      "text/plain": [
       "              Mkt-RF            SMB            HML            RMW  \\\n",
       "count  318478.000000  318478.000000  318478.000000  318478.000000   \n",
       "mean        0.981855       0.628163       0.128131      -0.059253   \n",
       "std         0.918800       1.248071       1.615972       1.919938   \n",
       "min        -9.922641     -10.212033     -17.654894     -22.925165   \n",
       "25%         0.465445      -0.114605      -0.710399      -0.979216   \n",
       "50%         0.932070       0.542998       0.101903       0.039229   \n",
       "75%         1.447381       1.303487       0.955263       0.955362   \n",
       "max        10.916430      10.373043      14.558920      17.413382   \n",
       "\n",
       "                 CMA          total  \n",
       "count  318478.000000  360752.000000  \n",
       "mean        0.013774       1.494318  \n",
       "std         2.182730       3.291402  \n",
       "min       -18.182706     -31.429456  \n",
       "25%        -1.086919       0.000000  \n",
       "50%         0.032834       1.214277  \n",
       "75%         1.140431       3.145515  \n",
       "max        17.626042      33.316296  "
      ]
     },
     "execution_count": 24,
     "metadata": {},
     "output_type": "execute_result"
    }
   ],
   "source": [
    "betas.describe().join(betas.sum(1).describe().to_frame('total'))"
   ]
  },
  {
   "cell_type": "code",
   "execution_count": 25,
   "metadata": {
    "ExecuteTime": {
     "end_time": "2021-04-15T19:42:45.366245Z",
     "start_time": "2021-04-15T19:42:45.093829Z"
    }
   },
   "outputs": [
    {
     "data": {
      "image/png": "[encoded data removed]",
      "text/plain": [
       "<Figure size 720x720 with 4 Axes>"
      ]
     },
     "metadata": {},
     "output_type": "display_data"
    }
   ],
   "source": [
    "cmap = sns.diverging_palette(10, 220, as_cmap=True)\n",
    "sns.clustermap(betas.corr(), annot=True, cmap=cmap, center=0);"
   ]
  },
  {
   "cell_type": "code",
   "execution_count": 26,
   "metadata": {
    "ExecuteTime": {
     "end_time": "2021-04-15T19:42:45.456467Z",
     "start_time": "2021-04-15T19:42:45.367374Z"
    },
    "scrolled": true
   },
   "outputs": [
    {
     "name": "stdout",
     "output_type": "stream",
     "text": [
      "<class 'pandas.core.frame.DataFrame'>\n",
      "MultiIndex: 360752 entries, ('A', Timestamp('2001-01-31 00:00:00', freq='M')) to ('ZUMZ', Timestamp('2018-03-31 00:00:00', freq='M'))\n",
      "Data columns (total 11 columns):\n",
      " #   Column      Non-Null Count   Dtype  \n",
      "---  ------      --------------   -----  \n",
      " 0   return_1m   360752 non-null  float64\n",
      " 1   return_2m   360752 non-null  float64\n",
      " 2   return_3m   360752 non-null  float64\n",
      " 3   return_6m   360752 non-null  float64\n",
      " 4   return_9m   360752 non-null  float64\n",
      " 5   return_12m  360752 non-null  float64\n",
      " 6   Mkt-RF      316640 non-null  float64\n",
      " 7   SMB         316640 non-null  float64\n",
      " 8   HML         316640 non-null  float64\n",
      " 9   RMW         316640 non-null  float64\n",
      " 10  CMA         316640 non-null  float64\n",
      "dtypes: float64(11)\n",
      "memory usage: 39.8+ MB\n"
     ]
    }
   ],
   "source": [
    "data = (data\n",
    "        .join(betas\n",
    "              .groupby(level='ticker')\n",
    "              .shift()))\n",
    "data.info()"
   ]
  },
  {
   "cell_type": "markdown",
   "metadata": {},
   "source": [
    "### Impute mean for missing factor betas"
   ]
  },
  {
   "cell_type": "code",
   "execution_count": 27,
   "metadata": {
    "ExecuteTime": {
     "end_time": "2021-04-15T19:42:47.627665Z",
     "start_time": "2021-04-15T19:42:45.458880Z"
    }
   },
   "outputs": [
    {
     "name": "stdout",
     "output_type": "stream",
     "text": [
      "<class 'pandas.core.frame.DataFrame'>\n",
      "MultiIndex: 360752 entries, ('A', Timestamp('2001-01-31 00:00:00', freq='M')) to ('ZUMZ', Timestamp('2018-03-31 00:00:00', freq='M'))\n",
      "Data columns (total 11 columns):\n",
      " #   Column      Non-Null Count   Dtype  \n",
      "---  ------      --------------   -----  \n",
      " 0   return_1m   360752 non-null  float64\n",
      " 1   return_2m   360752 non-null  float64\n",
      " 2   return_3m   360752 non-null  float64\n",
      " 3   return_6m   360752 non-null  float64\n",
      " 4   return_9m   360752 non-null  float64\n",
      " 5   return_12m  360752 non-null  float64\n",
      " 6   Mkt-RF      360752 non-null  float64\n",
      " 7   SMB         360752 non-null  float64\n",
      " 8   HML         360752 non-null  float64\n",
      " 9   RMW         360752 non-null  float64\n",
      " 10  CMA         360752 non-null  float64\n",
      "dtypes: float64(11)\n",
      "memory usage: 39.8+ MB\n"
     ]
    }
   ],
   "source": [
    "data.loc[:, factors] = data.groupby('ticker')[factors].apply(lambda x: x.fillna(x.mean()))\n",
    "data.info()"
   ]
  },
  {
   "cell_type": "markdown",
   "metadata": {
    "jp-MarkdownHeadingCollapsed": true,
    "tags": []
   },
   "source": [
    "## LATER  Momentum factors"
   ]
  },
  {
   "cell_type": "markdown",
   "metadata": {},
   "source": [
    "We can use these results to compute momentum factors based on the difference between returns over longer periods and the most recent monthly return, as well as for the difference between 3 and 12 month returns as follows:"
   ]
  },
  {
   "cell_type": "code",
   "execution_count": 28,
   "metadata": {
    "ExecuteTime": {
     "end_time": "2021-04-15T19:42:47.637631Z",
     "start_time": "2021-04-15T19:42:47.628920Z"
    }
   },
   "outputs": [],
   "source": [
    "for lag in [2,3,6,9,12]:\n",
    "    data[f'momentum_{lag}'] = data[f'return_{lag}m'].sub(data.return_1m)\n",
    "data[f'momentum_3_12'] = data[f'return_12m'].sub(data.return_3m)"
   ]
  },
  {
   "cell_type": "markdown",
   "metadata": {
    "jp-MarkdownHeadingCollapsed": true,
    "tags": []
   },
   "source": [
    "## Date Indicators"
   ]
  },
  {
   "cell_type": "code",
   "execution_count": 29,
   "metadata": {
    "ExecuteTime": {
     "end_time": "2021-04-15T19:42:47.684155Z",
     "start_time": "2021-04-15T19:42:47.638459Z"
    }
   },
   "outputs": [],
   "source": [
    "dates = data.index.get_level_values('date')\n",
    "data['year'] = dates.year\n",
    "data['month'] = dates.month"
   ]
  },
  {
   "cell_type": "markdown",
   "metadata": {
    "jp-MarkdownHeadingCollapsed": true,
    "tags": []
   },
   "source": [
    "## Lagged returns"
   ]
  },
  {
   "cell_type": "markdown",
   "metadata": {},
   "source": [
    "To use lagged values as input variables or features associated with the current observations, we use the .shift() method to move historical returns up to the current period:"
   ]
  },
  {
   "cell_type": "code",
   "execution_count": 30,
   "metadata": {
    "ExecuteTime": {
     "end_time": "2021-04-15T19:42:47.833744Z",
     "start_time": "2021-04-15T19:42:47.685024Z"
    }
   },
   "outputs": [
    {
     "name": "stdout",
     "output_type": "stream",
     "text": [
      "<class 'pandas.core.frame.DataFrame'>\n",
      "MultiIndex: 360752 entries, ('A', Timestamp('2001-01-31 00:00:00', freq='M')) to ('ZUMZ', Timestamp('2018-03-31 00:00:00', freq='M'))\n",
      "Data columns (total 25 columns):\n",
      " #   Column         Non-Null Count   Dtype  \n",
      "---  ------         --------------   -----  \n",
      " 0   return_1m      360752 non-null  float64\n",
      " 1   return_2m      360752 non-null  float64\n",
      " 2   return_3m      360752 non-null  float64\n",
      " 3   return_6m      360752 non-null  float64\n",
      " 4   return_9m      360752 non-null  float64\n",
      " 5   return_12m     360752 non-null  float64\n",
      " 6   Mkt-RF         360752 non-null  float64\n",
      " 7   SMB            360752 non-null  float64\n",
      " 8   HML            360752 non-null  float64\n",
      " 9   RMW            360752 non-null  float64\n",
      " 10  CMA            360752 non-null  float64\n",
      " 11  momentum_2     360752 non-null  float64\n",
      " 12  momentum_3     360752 non-null  float64\n",
      " 13  momentum_6     360752 non-null  float64\n",
      " 14  momentum_9     360752 non-null  float64\n",
      " 15  momentum_12    360752 non-null  float64\n",
      " 16  momentum_3_12  360752 non-null  float64\n",
      " 17  year           360752 non-null  int64  \n",
      " 18  month          360752 non-null  int64  \n",
      " 19  return_1m_t-1  358914 non-null  float64\n",
      " 20  return_1m_t-2  357076 non-null  float64\n",
      " 21  return_1m_t-3  355238 non-null  float64\n",
      " 22  return_1m_t-4  353400 non-null  float64\n",
      " 23  return_1m_t-5  351562 non-null  float64\n",
      " 24  return_1m_t-6  349724 non-null  float64\n",
      "dtypes: float64(23), int64(2)\n",
      "memory usage: 78.3+ MB\n"
     ]
    }
   ],
   "source": [
    "for t in range(1, 7):\n",
    "    data[f'return_1m_t-{t}'] = data.groupby(level='ticker').return_1m.shift(t)\n",
    "data.info()"
   ]
  },
  {
   "cell_type": "markdown",
   "metadata": {
    "jp-MarkdownHeadingCollapsed": true,
    "tags": []
   },
   "source": [
    "## Target: Holding Period Returns"
   ]
  },
  {
   "cell_type": "markdown",
   "metadata": {},
   "source": [
    "Similarly, to compute returns for various holding periods, we use the normalized period returns computed previously and shift them back to align them with the current financial features"
   ]
  },
  {
   "cell_type": "code",
   "execution_count": 31,
   "metadata": {
    "ExecuteTime": {
     "end_time": "2021-04-15T19:42:47.945813Z",
     "start_time": "2021-04-15T19:42:47.834603Z"
    }
   },
   "outputs": [],
   "source": [
    "for t in [1,2,3,6,12]:\n",
    "    data[f'target_{t}m'] = data.groupby(level='ticker')[f'return_{t}m'].shift(-t)"
   ]
  },
  {
   "cell_type": "code",
   "execution_count": 32,
   "metadata": {
    "ExecuteTime": {
     "end_time": "2021-04-15T19:42:48.020064Z",
     "start_time": "2021-04-15T19:42:47.946666Z"
    }
   },
   "outputs": [
    {
     "data": {
      "text/html": [
       "<div>\n",
       "<style scoped>\n",
       "    .dataframe tbody tr th:only-of-type {\n",
       "        vertical-align: middle;\n",
       "    }\n",
       "\n",
       "    .dataframe tbody tr th {\n",
       "        vertical-align: top;\n",
       "    }\n",
       "\n",
       "    .dataframe thead th {\n",
       "        text-align: right;\n",
       "    }\n",
       "</style>\n",
       "<table border=\"1\" class=\"dataframe\">\n",
       "  <thead>\n",
       "    <tr style=\"text-align: right;\">\n",
       "      <th></th>\n",
       "      <th></th>\n",
       "      <th>target_1m</th>\n",
       "      <th>target_2m</th>\n",
       "      <th>target_3m</th>\n",
       "      <th>return_1m</th>\n",
       "      <th>return_2m</th>\n",
       "      <th>return_3m</th>\n",
       "      <th>return_1m_t-1</th>\n",
       "      <th>return_1m_t-2</th>\n",
       "      <th>return_1m_t-3</th>\n",
       "    </tr>\n",
       "    <tr>\n",
       "      <th>ticker</th>\n",
       "      <th>date</th>\n",
       "      <th></th>\n",
       "      <th></th>\n",
       "      <th></th>\n",
       "      <th></th>\n",
       "      <th></th>\n",
       "      <th></th>\n",
       "      <th></th>\n",
       "      <th></th>\n",
       "      <th></th>\n",
       "    </tr>\n",
       "  </thead>\n",
       "  <tbody>\n",
       "    <tr>\n",
       "      <th rowspan=\"10\" valign=\"top\">A</th>\n",
       "      <th>2001-04-30</th>\n",
       "      <td>-0.140220</td>\n",
       "      <td>-0.087246</td>\n",
       "      <td>-0.098192</td>\n",
       "      <td>0.269444</td>\n",
       "      <td>0.040966</td>\n",
       "      <td>-0.105747</td>\n",
       "      <td>-0.146389</td>\n",
       "      <td>-0.329564</td>\n",
       "      <td>-0.003653</td>\n",
       "    </tr>\n",
       "    <tr>\n",
       "      <th>2001-05-31</th>\n",
       "      <td>-0.031008</td>\n",
       "      <td>-0.076414</td>\n",
       "      <td>-0.075527</td>\n",
       "      <td>-0.140220</td>\n",
       "      <td>0.044721</td>\n",
       "      <td>-0.023317</td>\n",
       "      <td>0.269444</td>\n",
       "      <td>-0.146389</td>\n",
       "      <td>-0.329564</td>\n",
       "    </tr>\n",
       "    <tr>\n",
       "      <th>2001-06-30</th>\n",
       "      <td>-0.119692</td>\n",
       "      <td>-0.097014</td>\n",
       "      <td>-0.155847</td>\n",
       "      <td>-0.031008</td>\n",
       "      <td>-0.087246</td>\n",
       "      <td>0.018842</td>\n",
       "      <td>-0.140220</td>\n",
       "      <td>0.269444</td>\n",
       "      <td>-0.146389</td>\n",
       "    </tr>\n",
       "    <tr>\n",
       "      <th>2001-07-31</th>\n",
       "      <td>-0.073750</td>\n",
       "      <td>-0.173364</td>\n",
       "      <td>-0.080114</td>\n",
       "      <td>-0.119692</td>\n",
       "      <td>-0.076414</td>\n",
       "      <td>-0.098192</td>\n",
       "      <td>-0.031008</td>\n",
       "      <td>-0.140220</td>\n",
       "      <td>0.269444</td>\n",
       "    </tr>\n",
       "    <tr>\n",
       "      <th>2001-08-31</th>\n",
       "      <td>-0.262264</td>\n",
       "      <td>-0.083279</td>\n",
       "      <td>0.009593</td>\n",
       "      <td>-0.073750</td>\n",
       "      <td>-0.097014</td>\n",
       "      <td>-0.075527</td>\n",
       "      <td>-0.119692</td>\n",
       "      <td>-0.031008</td>\n",
       "      <td>-0.140220</td>\n",
       "    </tr>\n",
       "    <tr>\n",
       "      <th>2001-09-30</th>\n",
       "      <td>0.139130</td>\n",
       "      <td>0.181052</td>\n",
       "      <td>0.134010</td>\n",
       "      <td>-0.262264</td>\n",
       "      <td>-0.173364</td>\n",
       "      <td>-0.155847</td>\n",
       "      <td>-0.073750</td>\n",
       "      <td>-0.119692</td>\n",
       "      <td>-0.031008</td>\n",
       "    </tr>\n",
       "    <tr>\n",
       "      <th>2001-10-31</th>\n",
       "      <td>0.224517</td>\n",
       "      <td>0.131458</td>\n",
       "      <td>0.108697</td>\n",
       "      <td>0.139130</td>\n",
       "      <td>-0.083279</td>\n",
       "      <td>-0.080114</td>\n",
       "      <td>-0.262264</td>\n",
       "      <td>-0.073750</td>\n",
       "      <td>-0.119692</td>\n",
       "    </tr>\n",
       "    <tr>\n",
       "      <th>2001-11-30</th>\n",
       "      <td>0.045471</td>\n",
       "      <td>0.054962</td>\n",
       "      <td>0.045340</td>\n",
       "      <td>0.224517</td>\n",
       "      <td>0.181052</td>\n",
       "      <td>0.009593</td>\n",
       "      <td>0.139130</td>\n",
       "      <td>-0.262264</td>\n",
       "      <td>-0.073750</td>\n",
       "    </tr>\n",
       "    <tr>\n",
       "      <th>2001-12-31</th>\n",
       "      <td>0.064539</td>\n",
       "      <td>0.045275</td>\n",
       "      <td>0.070347</td>\n",
       "      <td>0.045471</td>\n",
       "      <td>0.131458</td>\n",
       "      <td>0.134010</td>\n",
       "      <td>0.224517</td>\n",
       "      <td>0.139130</td>\n",
       "      <td>-0.262264</td>\n",
       "    </tr>\n",
       "    <tr>\n",
       "      <th>2002-01-31</th>\n",
       "      <td>0.026359</td>\n",
       "      <td>0.073264</td>\n",
       "      <td>-0.003306</td>\n",
       "      <td>0.064539</td>\n",
       "      <td>0.054962</td>\n",
       "      <td>0.108697</td>\n",
       "      <td>0.045471</td>\n",
       "      <td>0.224517</td>\n",
       "      <td>0.139130</td>\n",
       "    </tr>\n",
       "  </tbody>\n",
       "</table>\n",
       "</div>"
      ],
      "text/plain": [
       "                   target_1m  target_2m  target_3m  return_1m  return_2m  \\\n",
       "ticker date                                                                \n",
       "A      2001-04-30  -0.140220  -0.087246  -0.098192   0.269444   0.040966   \n",
       "       2001-05-31  -0.031008  -0.076414  -0.075527  -0.140220   0.044721   \n",
       "       2001-06-30  -0.119692  -0.097014  -0.155847  -0.031008  -0.087246   \n",
       "       2001-07-31  -0.073750  -0.173364  -0.080114  -0.119692  -0.076414   \n",
       "       2001-08-31  -0.262264  -0.083279   0.009593  -0.073750  -0.097014   \n",
       "       2001-09-30   0.139130   0.181052   0.134010  -0.262264  -0.173364   \n",
       "       2001-10-31   0.224517   0.131458   0.108697   0.139130  -0.083279   \n",
       "       2001-11-30   0.045471   0.054962   0.045340   0.224517   0.181052   \n",
       "       2001-12-31   0.064539   0.045275   0.070347   0.045471   0.131458   \n",
       "       2002-01-31   0.026359   0.073264  -0.003306   0.064539   0.054962   \n",
       "\n",
       "                   return_3m  return_1m_t-1  return_1m_t-2  return_1m_t-3  \n",
       "ticker date                                                                \n",
       "A      2001-04-30  -0.105747      -0.146389      -0.329564      -0.003653  \n",
       "       2001-05-31  -0.023317       0.269444      -0.146389      -0.329564  \n",
       "       2001-06-30   0.018842      -0.140220       0.269444      -0.146389  \n",
       "       2001-07-31  -0.098192      -0.031008      -0.140220       0.269444  \n",
       "       2001-08-31  -0.075527      -0.119692      -0.031008      -0.140220  \n",
       "       2001-09-30  -0.155847      -0.073750      -0.119692      -0.031008  \n",
       "       2001-10-31  -0.080114      -0.262264      -0.073750      -0.119692  \n",
       "       2001-11-30   0.009593       0.139130      -0.262264      -0.073750  \n",
       "       2001-12-31   0.134010       0.224517       0.139130      -0.262264  \n",
       "       2002-01-31   0.108697       0.045471       0.224517       0.139130  "
      ]
     },
     "execution_count": 32,
     "metadata": {},
     "output_type": "execute_result"
    }
   ],
   "source": [
    "cols = ['target_1m',\n",
    "        'target_2m',\n",
    "        'target_3m', \n",
    "        'return_1m',\n",
    "        'return_2m',\n",
    "        'return_3m',\n",
    "        'return_1m_t-1',\n",
    "        'return_1m_t-2',\n",
    "        'return_1m_t-3']\n",
    "\n",
    "data[cols].dropna().sort_index().head(10)"
   ]
  },
  {
   "cell_type": "code",
   "execution_count": 33,
   "metadata": {
    "ExecuteTime": {
     "end_time": "2021-04-15T19:42:48.040307Z",
     "start_time": "2021-04-15T19:42:48.020850Z"
    }
   },
   "outputs": [
    {
     "name": "stdout",
     "output_type": "stream",
     "text": [
      "<class 'pandas.core.frame.DataFrame'>\n",
      "MultiIndex: 360752 entries, ('A', Timestamp('2001-01-31 00:00:00', freq='M')) to ('ZUMZ', Timestamp('2018-03-31 00:00:00', freq='M'))\n",
      "Data columns (total 30 columns):\n",
      " #   Column         Non-Null Count   Dtype  \n",
      "---  ------         --------------   -----  \n",
      " 0   return_1m      360752 non-null  float64\n",
      " 1   return_2m      360752 non-null  float64\n",
      " 2   return_3m      360752 non-null  float64\n",
      " 3   return_6m      360752 non-null  float64\n",
      " 4   return_9m      360752 non-null  float64\n",
      " 5   return_12m     360752 non-null  float64\n",
      " 6   Mkt-RF         360752 non-null  float64\n",
      " 7   SMB            360752 non-null  float64\n",
      " 8   HML            360752 non-null  float64\n",
      " 9   RMW            360752 non-null  float64\n",
      " 10  CMA            360752 non-null  float64\n",
      " 11  momentum_2     360752 non-null  float64\n",
      " 12  momentum_3     360752 non-null  float64\n",
      " 13  momentum_6     360752 non-null  float64\n",
      " 14  momentum_9     360752 non-null  float64\n",
      " 15  momentum_12    360752 non-null  float64\n",
      " 16  momentum_3_12  360752 non-null  float64\n",
      " 17  year           360752 non-null  int64  \n",
      " 18  month          360752 non-null  int64  \n",
      " 19  return_1m_t-1  358914 non-null  float64\n",
      " 20  return_1m_t-2  357076 non-null  float64\n",
      " 21  return_1m_t-3  355238 non-null  float64\n",
      " 22  return_1m_t-4  353400 non-null  float64\n",
      " 23  return_1m_t-5  351562 non-null  float64\n",
      " 24  return_1m_t-6  349724 non-null  float64\n",
      " 25  target_1m      358914 non-null  float64\n",
      " 26  target_2m      357076 non-null  float64\n",
      " 27  target_3m      355238 non-null  float64\n",
      " 28  target_6m      349724 non-null  float64\n",
      " 29  target_12m     338696 non-null  float64\n",
      "dtypes: float64(28), int64(2)\n",
      "memory usage: 92.1+ MB\n"
     ]
    }
   ],
   "source": [
    "data.info()"
   ]
  },
  {
   "cell_type": "markdown",
   "metadata": {
    "jp-MarkdownHeadingCollapsed": true,
    "tags": []
   },
   "source": [
    "## Create age proxy"
   ]
  },
  {
   "cell_type": "markdown",
   "metadata": {},
   "source": [
    "We use quintiles of IPO year as a proxy for company age."
   ]
  },
  {
   "cell_type": "code",
   "execution_count": 34,
   "metadata": {
    "ExecuteTime": {
     "end_time": "2021-04-15T19:42:48.061542Z",
     "start_time": "2021-04-15T19:42:48.041100Z"
    }
   },
   "outputs": [],
   "source": [
    "data = (data\n",
    "        .join(pd.qcut(stocks.ipoyear, q=5, labels=list(range(1, 6)))\n",
    "              .astype(float)\n",
    "              .fillna(0)\n",
    "              .astype(int)\n",
    "              .to_frame('age')))\n",
    "data.age = data.age.fillna(-1)"
   ]
  },
  {
   "cell_type": "markdown",
   "metadata": {
    "jp-MarkdownHeadingCollapsed": true,
    "tags": []
   },
   "source": [
    "## Create dynamic size proxy"
   ]
  },
  {
   "cell_type": "markdown",
   "metadata": {},
   "source": [
    "We use the marketcap information from the NASDAQ ticker info to create a size proxy."
   ]
  },
  {
   "cell_type": "code",
   "execution_count": 35,
   "metadata": {
    "ExecuteTime": {
     "end_time": "2021-04-15T19:42:48.067917Z",
     "start_time": "2021-04-15T19:42:48.062397Z"
    }
   },
   "outputs": [
    {
     "name": "stdout",
     "output_type": "stream",
     "text": [
      "<class 'pandas.core.frame.DataFrame'>\n",
      "Index: 2412 entries, A to ZUMZ\n",
      "Data columns (total 3 columns):\n",
      " #   Column     Non-Null Count  Dtype  \n",
      "---  ------     --------------  -----  \n",
      " 0   marketcap  2407 non-null   float64\n",
      " 1   ipoyear    1065 non-null   float64\n",
      " 2   sector     2372 non-null   object \n",
      "dtypes: float64(2), object(1)\n",
      "memory usage: 139.9+ KB\n"
     ]
    }
   ],
   "source": [
    "stocks.info()"
   ]
  },
  {
   "cell_type": "markdown",
   "metadata": {},
   "source": [
    "Market cap information is tied to currrent prices. We create an adjustment factor to have the values reflect lower historical prices for each individual stock:"
   ]
  },
  {
   "cell_type": "code",
   "execution_count": 36,
   "metadata": {
    "ExecuteTime": {
     "end_time": "2021-04-15T19:42:48.144287Z",
     "start_time": "2021-04-15T19:42:48.068650Z"
    }
   },
   "outputs": [
    {
     "name": "stdout",
     "output_type": "stream",
     "text": [
      "<class 'pandas.core.frame.DataFrame'>\n",
      "DatetimeIndex: 207 entries, 2018-03-31 to 2001-01-31\n",
      "Columns: 1838 entries, A to ZUMZ\n",
      "dtypes: float64(1838)\n",
      "memory usage: 2.9 MB\n"
     ]
    }
   ],
   "source": [
    "size_factor = (monthly_prices\n",
    "               .loc[data.index.get_level_values('date').unique(),\n",
    "                    data.index.get_level_values('ticker').unique()]\n",
    "               .sort_index(ascending=False)\n",
    "               .pct_change()\n",
    "               .fillna(0)\n",
    "               .add(1)\n",
    "               .cumprod())\n",
    "size_factor.info()"
   ]
  },
  {
   "cell_type": "code",
   "execution_count": 37,
   "metadata": {
    "ExecuteTime": {
     "end_time": "2021-04-15T19:42:48.153203Z",
     "start_time": "2021-04-15T19:42:48.145309Z"
    }
   },
   "outputs": [],
   "source": [
    "msize = (size_factor\n",
    "         .mul(stocks\n",
    "              .loc[size_factor.columns, 'marketcap'])).dropna(axis=1, how='all')"
   ]
  },
  {
   "cell_type": "markdown",
   "metadata": {},
   "source": [
    "### Create Size indicator as deciles per period"
   ]
  },
  {
   "cell_type": "markdown",
   "metadata": {},
   "source": [
    "Compute size deciles per month:"
   ]
  },
  {
   "cell_type": "code",
   "execution_count": 38,
   "metadata": {
    "ExecuteTime": {
     "end_time": "2021-04-15T19:42:49.795031Z",
     "start_time": "2021-04-15T19:42:48.154005Z"
    }
   },
   "outputs": [],
   "source": [
    "data['msize'] = (msize\n",
    "                 .apply(lambda x: pd.qcut(x, q=10, labels=list(range(1, 11)))\n",
    "                        .astype(int), axis=1)\n",
    "                 .stack()\n",
    "                 .swaplevel())\n",
    "data.msize = data.msize.fillna(-1)"
   ]
  },
  {
   "cell_type": "markdown",
   "metadata": {
    "jp-MarkdownHeadingCollapsed": true,
    "tags": []
   },
   "source": [
    "## Combine data"
   ]
  },
  {
   "cell_type": "code",
   "execution_count": 39,
   "metadata": {
    "ExecuteTime": {
     "end_time": "2021-04-15T19:42:49.832155Z",
     "start_time": "2021-04-15T19:42:49.795874Z"
    }
   },
   "outputs": [],
   "source": [
    "data = data.join(stocks[['sector']])\n",
    "data.sector = data.sector.fillna('Unknown')"
   ]
  },
  {
   "cell_type": "code",
   "execution_count": 40,
   "metadata": {
    "ExecuteTime": {
     "end_time": "2021-04-15T19:42:49.863430Z",
     "start_time": "2021-04-15T19:42:49.833060Z"
    }
   },
   "outputs": [
    {
     "name": "stdout",
     "output_type": "stream",
     "text": [
      "<class 'pandas.core.frame.DataFrame'>\n",
      "MultiIndex: 360752 entries, ('A', Timestamp('2001-01-31 00:00:00', freq='M')) to ('ZUMZ', Timestamp('2018-03-31 00:00:00', freq='M'))\n",
      "Data columns (total 33 columns):\n",
      " #   Column         Non-Null Count   Dtype  \n",
      "---  ------         --------------   -----  \n",
      " 0   return_1m      360752 non-null  float64\n",
      " 1   return_2m      360752 non-null  float64\n",
      " 2   return_3m      360752 non-null  float64\n",
      " 3   return_6m      360752 non-null  float64\n",
      " 4   return_9m      360752 non-null  float64\n",
      " 5   return_12m     360752 non-null  float64\n",
      " 6   Mkt-RF         360752 non-null  float64\n",
      " 7   SMB            360752 non-null  float64\n",
      " 8   HML            360752 non-null  float64\n",
      " 9   RMW            360752 non-null  float64\n",
      " 10  CMA            360752 non-null  float64\n",
      " 11  momentum_2     360752 non-null  float64\n",
      " 12  momentum_3     360752 non-null  float64\n",
      " 13  momentum_6     360752 non-null  float64\n",
      " 14  momentum_9     360752 non-null  float64\n",
      " 15  momentum_12    360752 non-null  float64\n",
      " 16  momentum_3_12  360752 non-null  float64\n",
      " 17  year           360752 non-null  int64  \n",
      " 18  month          360752 non-null  int64  \n",
      " 19  return_1m_t-1  358914 non-null  float64\n",
      " 20  return_1m_t-2  357076 non-null  float64\n",
      " 21  return_1m_t-3  355238 non-null  float64\n",
      " 22  return_1m_t-4  353400 non-null  float64\n",
      " 23  return_1m_t-5  351562 non-null  float64\n",
      " 24  return_1m_t-6  349724 non-null  float64\n",
      " 25  target_1m      358914 non-null  float64\n",
      " 26  target_2m      357076 non-null  float64\n",
      " 27  target_3m      355238 non-null  float64\n",
      " 28  target_6m      349724 non-null  float64\n",
      " 29  target_12m     338696 non-null  float64\n",
      " 30  age            360752 non-null  int64  \n",
      " 31  msize          360752 non-null  float64\n",
      " 32  sector         360752 non-null  object \n",
      "dtypes: float64(29), int64(3), object(1)\n",
      "memory usage: 100.4+ MB\n"
     ]
    }
   ],
   "source": [
    "data.info()"
   ]
  },
  {
   "cell_type": "markdown",
   "metadata": {
    "jp-MarkdownHeadingCollapsed": true,
    "tags": []
   },
   "source": [
    "## Store data"
   ]
  },
  {
   "cell_type": "markdown",
   "metadata": {},
   "source": [
    "We will use the data again in several later chapters, starting in [Chapter 7 on Linear Models](../07_linear_models)."
   ]
  },
  {
   "cell_type": "code",
   "execution_count": 41,
   "metadata": {
    "ExecuteTime": {
     "end_time": "2021-04-15T19:42:50.165429Z",
     "start_time": "2021-04-15T19:42:49.864236Z"
    }
   },
   "outputs": [
    {
     "name": "stdout",
     "output_type": "stream",
     "text": [
      "<class 'pandas.io.pytables.HDFStore'>\n",
      "File path: ../data/assets.h5\n",
      "/engineered_features                        frame        (shape->[358914,33])                                                                \n",
      "/quandl/wiki/prices                         frame        (shape->[15389314,12])                                                              \n",
      "/quandl/wiki/stocks                         frame        (shape->[1,2])                                                                      \n",
      "/sp500/fred                                 frame        (shape->[2609,1])                                                                   \n",
      "/sp500/sp500_stooq                          frame        (shape->[17700,5])                                                                  \n",
      "/sp500/stocks                               frame        (shape->[1,7])                                                                      \n",
      "/sp500/stooq                                frame        (shape->[17700,5])                                                                  \n",
      "/stooq/jp/tse/stocks/prices                 frame_table  (typ->appendable_multi,nrows->10283141,ncols->7,indexers->[index],dc->[date,ticker])\n",
      "/stooq/jp/tse/stocks/tickers                frame_table  (typ->appendable,nrows->3732,ncols->2,indexers->[index],dc->[])                     \n",
      "/stooq/us/nasdaq/etfs/prices                frame_table  (typ->appendable_multi,nrows->359912,ncols->7,indexers->[index],dc->[date,ticker])  \n",
      "/stooq/us/nasdaq/etfs/tickers               frame_table  (typ->appendable,nrows->171,ncols->2,indexers->[index],dc->[])                      \n",
      "/stooq/us/nasdaq/stocks/prices              frame_table  (typ->appendable_multi,nrows->6415760,ncols->7,indexers->[index],dc->[date,ticker]) \n",
      "/stooq/us/nasdaq/stocks/tickers             frame_table  (typ->appendable,nrows->3570,ncols->2,indexers->[index],dc->[])                     \n",
      "/stooq/us/nyse/etfs/prices                  frame_table  (typ->appendable_multi,nrows->2435526,ncols->7,indexers->[index],dc->[date,ticker]) \n",
      "/stooq/us/nyse/etfs/tickers                 frame_table  (typ->appendable,nrows->1023,ncols->2,indexers->[index],dc->[])                     \n",
      "/stooq/us/nyse/stocks/prices                frame_table  (typ->appendable_multi,nrows->7983429,ncols->7,indexers->[index],dc->[date,ticker]) \n",
      "/stooq/us/nyse/stocks/tickers               frame_table  (typ->appendable,nrows->3969,ncols->2,indexers->[index],dc->[])                     \n",
      "/stooq/us/nysemkt/stocks/prices             frame_table  (typ->appendable_multi,nrows->744452,ncols->7,indexers->[index],dc->[date,ticker])  \n",
      "/stooq/us/nysemkt/stocks/tickers            frame_table  (typ->appendable,nrows->298,ncols->2,indexers->[index],dc->[])                      \n",
      "/us_equities/stocks                         frame        (shape->[6834,6])                                                                   \n"
     ]
    }
   ],
   "source": [
    "with pd.HDFStore(DATA_STORE) as store:\n",
    "    store.put('engineered_features', data.sort_index().loc[idx[:, :datetime(2018, 3, 1)], :])\n",
    "    print(store.info())"
   ]
  },
  {
   "cell_type": "markdown",
   "metadata": {
    "jp-MarkdownHeadingCollapsed": true,
    "tags": []
   },
   "source": [
    "## Create Dummy variables"
   ]
  },
  {
   "cell_type": "markdown",
   "metadata": {},
   "source": [
    "For most models, we need to encode categorical variables as 'dummies' (one-hot encoding):"
   ]
  },
  {
   "cell_type": "code",
   "execution_count": 42,
   "metadata": {
    "ExecuteTime": {
     "end_time": "2021-04-15T19:42:50.404583Z",
     "start_time": "2021-04-15T19:42:50.166383Z"
    }
   },
   "outputs": [
    {
     "name": "stdout",
     "output_type": "stream",
     "text": [
      "<class 'pandas.core.frame.DataFrame'>\n",
      "MultiIndex: 360752 entries, ('A', Timestamp('2001-01-31 00:00:00', freq='M')) to ('ZUMZ', Timestamp('2018-03-31 00:00:00', freq='M'))\n",
      "Data columns (total 88 columns):\n",
      " #   Column                 Non-Null Count   Dtype  \n",
      "---  ------                 --------------   -----  \n",
      " 0   return_1m              360752 non-null  float64\n",
      " 1   return_2m              360752 non-null  float64\n",
      " 2   return_3m              360752 non-null  float64\n",
      " 3   return_6m              360752 non-null  float64\n",
      " 4   return_9m              360752 non-null  float64\n",
      " 5   return_12m             360752 non-null  float64\n",
      " 6   Mkt-RF                 360752 non-null  float64\n",
      " 7   SMB                    360752 non-null  float64\n",
      " 8   HML                    360752 non-null  float64\n",
      " 9   RMW                    360752 non-null  float64\n",
      " 10  CMA                    360752 non-null  float64\n",
      " 11  momentum_2             360752 non-null  float64\n",
      " 12  momentum_3             360752 non-null  float64\n",
      " 13  momentum_6             360752 non-null  float64\n",
      " 14  momentum_9             360752 non-null  float64\n",
      " 15  momentum_12            360752 non-null  float64\n",
      " 16  momentum_3_12          360752 non-null  float64\n",
      " 17  return_1m_t-1          358914 non-null  float64\n",
      " 18  return_1m_t-2          357076 non-null  float64\n",
      " 19  return_1m_t-3          355238 non-null  float64\n",
      " 20  return_1m_t-4          353400 non-null  float64\n",
      " 21  return_1m_t-5          351562 non-null  float64\n",
      " 22  return_1m_t-6          349724 non-null  float64\n",
      " 23  target_1m              358914 non-null  float64\n",
      " 24  target_2m              357076 non-null  float64\n",
      " 25  target_3m              355238 non-null  float64\n",
      " 26  target_6m              349724 non-null  float64\n",
      " 27  target_12m             338696 non-null  float64\n",
      " 28  year_2001              360752 non-null  uint8  \n",
      " 29  year_2002              360752 non-null  uint8  \n",
      " 30  year_2003              360752 non-null  uint8  \n",
      " 31  year_2004              360752 non-null  uint8  \n",
      " 32  year_2005              360752 non-null  uint8  \n",
      " 33  year_2006              360752 non-null  uint8  \n",
      " 34  year_2007              360752 non-null  uint8  \n",
      " 35  year_2008              360752 non-null  uint8  \n",
      " 36  year_2009              360752 non-null  uint8  \n",
      " 37  year_2010              360752 non-null  uint8  \n",
      " 38  year_2011              360752 non-null  uint8  \n",
      " 39  year_2012              360752 non-null  uint8  \n",
      " 40  year_2013              360752 non-null  uint8  \n",
      " 41  year_2014              360752 non-null  uint8  \n",
      " 42  year_2015              360752 non-null  uint8  \n",
      " 43  year_2016              360752 non-null  uint8  \n",
      " 44  year_2017              360752 non-null  uint8  \n",
      " 45  year_2018              360752 non-null  uint8  \n",
      " 46  month_1                360752 non-null  uint8  \n",
      " 47  month_2                360752 non-null  uint8  \n",
      " 48  month_3                360752 non-null  uint8  \n",
      " 49  month_4                360752 non-null  uint8  \n",
      " 50  month_5                360752 non-null  uint8  \n",
      " 51  month_6                360752 non-null  uint8  \n",
      " 52  month_7                360752 non-null  uint8  \n",
      " 53  month_8                360752 non-null  uint8  \n",
      " 54  month_9                360752 non-null  uint8  \n",
      " 55  month_10               360752 non-null  uint8  \n",
      " 56  month_11               360752 non-null  uint8  \n",
      " 57  month_12               360752 non-null  uint8  \n",
      " 58  msize_-1               360752 non-null  uint8  \n",
      " 59  msize_1                360752 non-null  uint8  \n",
      " 60  msize_2                360752 non-null  uint8  \n",
      " 61  msize_3                360752 non-null  uint8  \n",
      " 62  msize_4                360752 non-null  uint8  \n",
      " 63  msize_5                360752 non-null  uint8  \n",
      " 64  msize_6                360752 non-null  uint8  \n",
      " 65  msize_7                360752 non-null  uint8  \n",
      " 66  msize_8                360752 non-null  uint8  \n",
      " 67  msize_9                360752 non-null  uint8  \n",
      " 68  msize_10               360752 non-null  uint8  \n",
      " 69  age_0                  360752 non-null  uint8  \n",
      " 70  age_1                  360752 non-null  uint8  \n",
      " 71  age_2                  360752 non-null  uint8  \n",
      " 72  age_3                  360752 non-null  uint8  \n",
      " 73  age_4                  360752 non-null  uint8  \n",
      " 74  age_5                  360752 non-null  uint8  \n",
      " 75  Basic Industries       360752 non-null  uint8  \n",
      " 76  Capital Goods          360752 non-null  uint8  \n",
      " 77  Consumer Durables      360752 non-null  uint8  \n",
      " 78  Consumer Non-Durables  360752 non-null  uint8  \n",
      " 79  Consumer Services      360752 non-null  uint8  \n",
      " 80  Energy                 360752 non-null  uint8  \n",
      " 81  Finance                360752 non-null  uint8  \n",
      " 82  Health Care            360752 non-null  uint8  \n",
      " 83  Miscellaneous          360752 non-null  uint8  \n",
      " 84  Public Utilities       360752 non-null  uint8  \n",
      " 85  Technology             360752 non-null  uint8  \n",
      " 86  Transportation         360752 non-null  uint8  \n",
      " 87  Unknown                360752 non-null  uint8  \n",
      "dtypes: float64(28), uint8(60)\n",
      "memory usage: 107.2+ MB\n"
     ]
    }
   ],
   "source": [
    "dummy_data = pd.get_dummies(data,\n",
    "                            columns=['year','month', 'msize', 'age',  'sector'],\n",
    "                            prefix=['year','month', 'msize', 'age', ''],\n",
    "                            prefix_sep=['_', '_', '_', '_', ''])\n",
    "dummy_data = dummy_data.rename(columns={c:c.replace('.0', '') for c in dummy_data.columns})\n",
    "dummy_data.info()"
   ]
  }
 ],
 "metadata": {
  "kernelspec": {
   "display_name": "Python 3 (ipykernel)",
   "language": "python",
   "name": "python3"
  },
  "language_info": {
   "codemirror_mode": {
    "name": "ipython",
    "version": 3
   },
   "file_extension": ".py",
   "mimetype": "text/x-python",
   "name": "python",
   "nbconvert_exporter": "python",
   "pygments_lexer": "ipython3",
   "version": "3.11.3"
  },
  "toc": {
   "base_numbering": 1,
   "nav_menu": {},
   "number_sections": true,
   "sideBar": true,
   "skip_h1_title": true,
   "title_cell": "Table of Contents",
   "title_sidebar": "Contents",
   "toc_cell": false,
   "toc_position": {
    "height": "calc(100% - 180px)",
    "left": "10px",
    "top": "150px",
    "width": "230.355px"
   },
   "toc_section_display": true,
   "toc_window_display": true
  },
  "toc-autonumbering": true
 },
 "nbformat": 4,
 "nbformat_minor": 4
}
